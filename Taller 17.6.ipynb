{
 "cells": [
  {
   "cell_type": "code",
   "execution_count": 24,
   "metadata": {
    "collapsed": false
   },
   "outputs": [
    {
     "name": "stdout",
     "output_type": "stream",
     "text": [
      "1:\n",
      " \n",
      "La pendiente o coeficiente a1 =  0.557677616501\n",
      "La interseccion eje Y o coeficiente a0 =  0.139037433155\n",
      "El coeficiente de correlacion es =  0.917128851729\n",
      "El error estandar de la estimacion es =  1.56240900641\n"
     ]
    },
    {
     "data": {
      "image/png": "[encoded data removed]",
      "text/plain": [
       "<matplotlib.figure.Figure at 0x75c9278>"
      ]
     },
     "metadata": {},
     "output_type": "display_data"
    }
   ],
   "source": [
    "\n",
    "#17.6) Con el mismo enfoque que se empleó para obtener las ecuaciones (17.15) y (17.16), obtenga el ajuste por mínimos cuadrados del modelo siguiente: \n",
    "#y = a1x + e. Es decir, determine la pendiente que resulta en el ajuste por mínimos cuadrados para una línea recta con intersección en el origen. \n",
    "#Ajuste los datos siguientes con dicho modelo e ilustre el resultado con una gráfica. x= [2, 4, 6, 7, 10, 11, 14, 17, 20] & y =[1, 2, 5, 2, 8, 7, 6, 9, 12]\n",
    "import math\n",
    "import matplotlib.pyplot as plt\n",
    "import matplotlib.pyplot as plt2\n",
    "%matplotlib inline \n",
    "\n",
    "x= [2, 4, 6, 7, 10, 11, 14, 17, 20] \n",
    "y =[1, 2, 5, 2, 8, 7, 6, 9, 12]\n",
    "\n",
    "tiempo,ecuacion1,valores,logy,logx=[],[],[],[],[]\n",
    "n=len(x)\n",
    "\n",
    "for t in range (1, 16):\n",
    "    tiempo.append(t)\n",
    "\n",
    "def sumProd(vec1,vec2, cont):\n",
    "    suma1=0\n",
    "    for i in range(cont):\n",
    "        suma1+=(vec1[i]*vec2[i])\n",
    "    return suma1\n",
    "\n",
    "def sumXY(vec1,vec2,cont):\n",
    "    suma2=0\n",
    "    suma3=0\n",
    "    for j in range (cont):\n",
    "        suma2+=vec1[j]\n",
    "        suma3+=vec2[j]\n",
    "    producto=suma2*suma3\n",
    "    return producto\n",
    "\n",
    "def sumCuadr(vec1, cont):\n",
    "    suma4=0\n",
    "    for k in range(cont):\n",
    "        suma4+=math.pow(vec1[k],2)\n",
    "    return suma4\n",
    "\n",
    "def cuadrado(vec1, cont):    \n",
    "    suma5=0\n",
    "    for l in range(cont):\n",
    "        suma5+=vec1[l]\n",
    "    return (math.pow(suma5,2))\n",
    "\n",
    "def mediaX(vec1, cont): \n",
    "    suma6=0.0\n",
    "    for o in range(cont):\n",
    "        suma6+=vec1[o]\n",
    "    return (suma6/len(vec1))\n",
    "\n",
    "def mediaY(vec2, cont):\n",
    "    suma7=0.0\n",
    "    for m in range(cont):\n",
    "        suma7+=vec2[m]\n",
    "    return (suma7/len(vec2))\n",
    "\n",
    "def raices(vec1,vec2,cont):\n",
    "    raiz1=0\n",
    "    raiz2=0\n",
    "    sumx=0\n",
    "    sumcx=0\n",
    "    sumy=0\n",
    "    sumcy=0\n",
    "    for k in range(cont):\n",
    "        sumx+=math.pow(vec1[k],2)\n",
    "        sumcx+=vec1[k]\n",
    "        sumy+=math.pow(vec2[k],2)\n",
    "        sumcy+=vec2[k]\n",
    "    raiz1=math.sqrt(((cont*sumx)-(math.pow(sumcx,2))))\n",
    "    raiz2=math.sqrt(((cont*sumy)-(math.pow(sumcy,2))))\n",
    "    return (raiz1*raiz2)\n",
    "\n",
    "def coeficiente(vec1,vec2,cont):\n",
    "    r=(((cont*sumProd(vec1,vec2,cont))-sumXY(vec1,vec2,cont))/(raices(vec1,vec2,cont)))\n",
    "    return (r)\n",
    "\n",
    "def error(vec1,vec2,a1,a0,cont):\n",
    "    sr=0\n",
    "    for p in range(cont):\n",
    "        sr+=math.pow(vec2[p]-a0-a1*vec1[p],2)\n",
    "    syx=math.sqrt(sr/(cont-2))\n",
    "    return syx\n",
    "    \n",
    "a1A=(n*sumProd(x,y,n)-sumXY(x,y,n))/(n*sumCuadr(x,n)-cuadrado(x,n))\n",
    "a0A=mediaY(y,n)-a1A*mediaX(x,n)\n",
    "for w in range (40):\n",
    "    func1=a0A+(a1A*w)\n",
    "    ecuacion1.append(func1)\n",
    "    valores.append(w)\n",
    "    \n",
    "for z in range(1,n):\n",
    "    logy.append(math.log(ecuacion1[z]))\n",
    "    logx.append(math.log(z))\n",
    "    \n",
    "print \"1:\\n \"\n",
    "print \"La pendiente o coeficiente a1 = \", a1A\n",
    "print \"La interseccion eje Y o coeficiente a0 = \", a0A\n",
    "print \"El coeficiente de correlacion es = \", coeficiente(x,y,n)\n",
    "print \"El error estandar de la estimacion es = \", error(x,y,a1A,a0A,n)\n",
    "\n",
    "plt.title(\"Grafica #1\")\n",
    "plt.grid(True)\n",
    "plt.axis([0,18,0,10])\n",
    "plt.ylabel('f(x)')\n",
    "plt.xlabel('x')\n",
    "plt.plot(x, y, 'co', label=\"Valores iniciales\")\n",
    "plt.plot(valores, ecuacion1, 'm--', linewidth=2.0, label=\"a0+a1x\")\n",
    "plt.plot(logx, logy, 'r-', linewidth=2.0, label=\"Ln(y) VS Ln(x)\")\n",
    "plt.legend(loc = 'lower right', numpoints = 2)\n",
    "plt.show()"
   ]
  },
  {
   "cell_type": "markdown",
   "metadata": {},
   "source": []
  },
  {
   "cell_type": "code",
   "execution_count": null,
   "metadata": {
    "collapsed": true
   },
   "outputs": [],
   "source": []
  }
 ],
 "metadata": {
  "kernelspec": {
   "display_name": "Python 2",
   "language": "python",
   "name": "python2"
  },
  "language_info": {
   "codemirror_mode": {
    "name": "ipython",
    "version": 2
   },
   "file_extension": ".py",
   "mimetype": "text/x-python",
   "name": "python",
   "nbconvert_exporter": "python",
   "pygments_lexer": "ipython2",
   "version": "2.7.11"
  }
 },
 "nbformat": 4,
 "nbformat_minor": 0
}
