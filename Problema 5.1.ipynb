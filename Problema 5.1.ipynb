{
 "cells": [
  {
   "cell_type": "code",
   "execution_count": 27,
   "metadata": {
    "collapsed": false
   },
   "outputs": [
    {
     "name": "stdout",
     "output_type": "stream",
     "text": [
      "Raiz mayor es: x= 6.405125\n",
      "\n",
      "╒═════════════╤═════════╤═══════════════════════════════════════╤════════════════════╕\n",
      "│   Iteracion │    Raiz │ Error relativo porcentual verdadero   │ Error aproximado   │\n",
      "╞═════════════╪═════════╪═══════════════════════════════════════╪════════════════════╡\n",
      "│           1 │ 7.5     │ 17.0937364961 %                       │ ----- %            │\n",
      "├─────────────┼─────────┼───────────────────────────────────────┼────────────────────┤\n",
      "│           2 │ 6.25    │ 2.42188625324 %                       │ 20.0 %             │\n",
      "├─────────────┼─────────┼───────────────────────────────────────┼────────────────────┤\n",
      "│           3 │ 6.875   │ 7.33592512143 %                       │ 9.09090909091 %    │\n",
      "├─────────────┼─────────┼───────────────────────────────────────┼────────────────────┤\n",
      "│           4 │ 6.5625  │ 2.4570194341 %                        │ 4.7619047619 %     │\n",
      "├─────────────┼─────────┼───────────────────────────────────────┼────────────────────┤\n",
      "│           5 │ 6.40625 │ 0.0175665904278 %                     │ 2.43902439024 %    │\n",
      "╘═════════════╧═════════╧═══════════════════════════════════════╧════════════════════╛\n"
     ]
    },
    {
     "data": {
      "image/png": "[encoded data removed]",
      "text/plain": [
       "<matplotlib.figure.Figure at 0x75e1438>"
      ]
     },
     "metadata": {},
     "output_type": "display_data"
    }
   ],
   "source": [
    "import math\n",
    "from tabulate import tabulate \n",
    "import matplotlib.pyplot as plt\n",
    "%matplotlib inline\n",
    "\n",
    "\n",
    "cont, x=1, 0\n",
    "tabla=[]\n",
    "equis=[]\n",
    "function=[]\n",
    "raices=[]\n",
    "ErrorA=[]\n",
    "xReal=-1.405\n",
    "a=-0.5\n",
    "b=2.5\n",
    "c=4.5\n",
    "xl=5.0\n",
    "xu=10.0\n",
    "xr=0.0\n",
    "x1=0.0\n",
    "x2=0.0\n",
    "\n",
    "def cuadratica():\n",
    "    x1=(-b+math.sqrt(math.pow(b,2)-4*a*c))/(2*a)\n",
    "    x2=(-b-math.sqrt(math.pow(b,2)-4*a*c))/(2*a)\n",
    "    if(x1>x2):\n",
    "        xMayor=x1\n",
    "        return xMayor\n",
    "    else:\n",
    "        xMayor=x2\n",
    "        return xMayor\n",
    "\n",
    "def funcion(x):\n",
    "    fx=a*math.pow(x,2)+b*x+c\n",
    "    return fx\n",
    "\n",
    "while (x<10):\n",
    "    equis.append(x)\n",
    "    fxG=a*math.pow(x,2)+b*x+c\n",
    "    function.append(fxG)\n",
    "    x+=0.8\n",
    "    \n",
    "for i in range(0,5):\n",
    "    xr=(xl+xu)/2\n",
    "    raices.append(xr)\n",
    "    fA=funcion(xl)\n",
    "    fB=funcion(xr)\n",
    "    erpv=math.fabs(((cuadratica()-xr)/cuadratica())*100)\n",
    "    if(i==0):\n",
    "        ErrorA.append(\"-----\")\n",
    "        eaprx=100\n",
    "    else:\n",
    "        j=i-1\n",
    "        eaprx=math.fabs(((raices[i]-raices[j])/raices[i])*100)\n",
    "        ErrorA.append(eaprx)\n",
    "    tabla.append([i+1,xr, str(erpv)+\" %\",str(ErrorA[i])+\" %\"])\n",
    "    if ((fA*fB)<0):\n",
    "        xu=xr\n",
    "    if((fA*fB)>0):\n",
    "         xl=xr\n",
    "\n",
    "print \"Raiz mayor es: x= %f\\n\"%(cuadratica())\n",
    "\n",
    "print tabulate(tabla, headers=[\"Proceso\", \"Raiz\", \"Error relativo porcentual verdadero\", \"Error aproximado\"], tablefmt=\"fancy_grid\")\n",
    "\n",
    "plt.title(\"Grafica\")\n",
    "plt.axis([0, 10, -2, 10])\n",
    "plt.ylabel('f(x)')\n",
    "plt.xlabel('x')\n",
    "plt.axhline(0, color=\"red\")\n",
    "plt.plot(equis, function, 'm-', marker='*')\n",
    "plt.plot(cuadratica(),0, 'cs', label='Raiz Exacta=6.405125')\n",
    "plt.legend(loc = 'upper right', numpoints = 1)\n",
    "plt.show()"
   ]
  },
  {
   "cell_type": "code",
   "execution_count": null,
   "metadata": {
    "collapsed": true
   },
   "outputs": [],
   "source": []
  },
  {
   "cell_type": "code",
   "execution_count": null,
   "metadata": {
    "collapsed": true
   },
   "outputs": [],
   "source": []
  }
 ],
 "metadata": {
  "kernelspec": {
   "display_name": "Python 2",
   "language": "python",
   "name": "python2"
  },
  "language_info": {
   "codemirror_mode": {
    "name": "ipython",
    "version": 2
   },
   "file_extension": ".py",
   "mimetype": "text/x-python",
   "name": "python",
   "nbconvert_exporter": "python",
   "pygments_lexer": "ipython2",
   "version": "2.7.11"
  }
 },
 "nbformat": 4,
 "nbformat_minor": 0
}
