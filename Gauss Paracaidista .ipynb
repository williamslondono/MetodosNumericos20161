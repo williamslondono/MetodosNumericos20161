{
 "cells": [
  {
   "cell_type": "code",
   "execution_count": 2,
   "metadata": {
    "collapsed": false
   },
   "outputs": [
    {
     "name": "stdout",
     "output_type": "stream",
     "text": [
      "Para el problema del paracaidista, los resultados son: \n",
      "    a= 8.594118 m/s^2\n",
      "    T= 34.411765 N\n",
      "    R= 36.764706 N\n"
     ]
    }
   ],
   "source": [
    "#Suponga que un equipo de tres paracaidistas está unido por una cuerda ligera mientras va en caída libre a una velocidad de 5 m/s. \n",
    "#Calcule la tensión en cada sección de la cuerda y la aceleración del equipo, dado la matriz de coeficientes del sistema de ecuaciones resultante.\n",
    "\n",
    "var,piv,matriz = 0,0,[[70.0,1.0,0.0,636.0],[60.0,-1.0,1.0,518.0],[40.0,0.0,-1.0,307.0]]\n",
    "\n",
    "var = len(matriz)\n",
    "    \n",
    "def pivo(matriz,piv,var):\n",
    "    temp=0.0\n",
    "    temp=matriz[piv][piv]\n",
    "    for y in range(0,var+1):\n",
    "        matriz[piv][y]=matriz[piv][y]/temp\n",
    "        \n",
    "def ceros(matriz,piv,var):\n",
    "    for x in range(0,var):\n",
    "        if (x!=piv):\n",
    "            c = matriz[x][piv]\n",
    "            for z in range(0,var+1):\n",
    "                matriz[x][z]=((-1*c)*matriz[piv][z])+matriz[x][z]\n",
    "                \n",
    "for a in range(0,var):\n",
    "    pivo(matriz,piv,var)\n",
    "    ceros(matriz,piv,var)\n",
    "    piv += 1\n",
    "print (\"Para el problema del paracaidista, los resultados son: \")\n",
    "print (\"    a= %f m/s^2\")%(matriz[0][var])\n",
    "print (\"    T= %f N\")%(matriz[1][var])\n",
    "print (\"    R= %f N\")%(matriz[2][var])"
   ]
  },
  {
   "cell_type": "code",
   "execution_count": null,
   "metadata": {
    "collapsed": true
   },
   "outputs": [],
   "source": []
  }
 ],
 "metadata": {
  "kernelspec": {
   "display_name": "Python 2",
   "language": "python",
   "name": "python2"
  },
  "language_info": {
   "codemirror_mode": {
    "name": "ipython",
    "version": 2
   },
   "file_extension": ".py",
   "mimetype": "text/x-python",
   "name": "python",
   "nbconvert_exporter": "python",
   "pygments_lexer": "ipython2",
   "version": "2.7.11"
  }
 },
 "nbformat": 4,
 "nbformat_minor": 0
}
