{
 "cells": [
  {
   "cell_type": "code",
   "execution_count": 9,
   "metadata": {
    "collapsed": false
   },
   "outputs": [
    {
     "name": "stdout",
     "output_type": "stream",
     "text": [
      "      Tiempo     V_verdadero      V_aproximado       E_verdadero       E_relativo         E_R_Apoximado.\n",
      " \n",
      "|              2 |       16.404981 |                 19.6 |            -3.195019|           -16.301117|                100.0%|\n",
      "|              4 |       27.769291 |            32.004699 |            -4.235408|           -13.233707|            38.758993%|\n",
      "|              6 |       35.641752 |            39.855544 |            -4.213792|           -10.572662|            19.698251%|\n",
      "|              8 |       41.095283 |            44.824287 |            -3.729004|             -8.31916|            11.084935%|\n",
      "|             10 |       44.873138 |            47.968969 |            -3.095831|             -6.45382|             6.555659%|\n",
      "|             12 |       47.490191 |            49.959215 |            -2.469024|            -4.942079|             3.983742%|\n",
      "|             14 |       49.303116 |            51.218828 |            -1.915712|             -3.74025|             2.459277%|\n",
      "|             16 |       50.558994 |            52.016028 |            -1.457034|            -2.801125|             1.532605%|\n",
      "|             18 |       51.428985 |             52.52057 |            -1.091585|            -2.078395|             0.960656%|\n",
      "|             20 |       52.031658 |            52.839891 |            -0.808233|            -1.529589|             0.604318%|\n",
      "|             22 |       52.449152 |            53.041987 |            -0.592835|            -1.117671|             0.381011%|\n",
      "|             24 |       52.738364 |            53.169892 |            -0.431528|            -0.811602|             0.240559%|\n",
      "|             26 |       52.938712 |            53.250842 |             -0.31213|             -0.58615|             0.152016%|\n",
      "|             28 |       53.077499 |            53.302075 |            -0.224576|            -0.421327|             0.096118%|\n",
      "|             30 |       53.173643 |              53.3345 |            -0.160857|              -0.3016|             0.060796%|\n",
      "|             32 |       53.240245 |            53.355021 |            -0.114776|            -0.215118|             0.038461%|\n",
      "|             34 |       53.286382 |            53.368009 |            -0.081627|            -0.152951|             0.024337%|\n",
      "|             36 |       53.318343 |            53.376229 |            -0.057886|            -0.108449|               0.0154%|\n",
      "|             38 |       53.340484 |            53.381431 |            -0.040947|            -0.076706|             0.009745%|\n",
      "|             40 |       53.355821 |            53.384724 |            -0.028903|            -0.054141|             0.006168%|\n"
     ]
    }
   ],
   "source": [
    "\n",
    "import math\n",
    "import pylab as plt\n",
    "vertorx1=[];\n",
    "vectory1=[];\n",
    "vectorx=[];\n",
    "vectory=[];\n",
    "Error_relativo=0\n",
    "ver=0\n",
    "g=9.8\n",
    "m=68.1\n",
    "c=12.5\n",
    "ti=0\n",
    "tii=0\n",
    "ver2=0\n",
    "v_an=0\n",
    "print(\"      Tiempo     V_verdadero      V_aproximado       E_verdadero       E_relativo         E_R_Apoximado.\")\n",
    "print(\" \")\n",
    "for t in range(400):\n",
    "    dos=t%2\n",
    "    if dos==0:\n",
    "        v=round(((g*m)/c)*(1-math.exp((-c/m)*t)),6)\n",
    "        vectorx.append(t)\n",
    "        vectory.append(v)\n",
    "        ti=ti+2\n",
    "        \n",
    "        ver=round(v_an,6)\n",
    "        v_n=v_an+(g-(c/m)*v_an)*(ti-tii)\n",
    "        v_an=v_n\n",
    "        tii=ti\n",
    "        if t>0:\n",
    "            Error_ver=round(v-ver,6)\n",
    "            Error_r_apro=round(((ver-ver2)/ver)*100,6)\n",
    "            ver2=ver\n",
    "            if str(Error_r_apro)<=\"0.005\":\n",
    "                break \n",
    "            Error_relativo=round((Error_ver/ver)*100,6)\n",
    "            vertorx1.append(abs(Error_relativo));\n",
    "            vectory1.append(Error_r_apro);\n",
    "            print '|{0:15} | {1:15} | {2:20} | {3:20}| {4:20}| {5:20}%|'.format(t,v,ver,Error_ver,Error_relativo,Error_r_apro)\n",
    "plt.plot(vertorx1,vectory1,'g')\n",
    "plt.plot(vectorx,vectory,'*')\n",
    "plt.xlabel('(t)')\n",
    "plt.ylabel('V(t)')\n",
    "plt.title('Paracaidista')\n",
    "plt.grid(True)\n",
    "plt.savefig(\"test.png\")\n",
    "plt.show()"
   ]
  },
  {
   "cell_type": "code",
   "execution_count": null,
   "metadata": {
    "collapsed": true
   },
   "outputs": [],
   "source": []
  },
  {
   "cell_type": "code",
   "execution_count": null,
   "metadata": {
    "collapsed": true
   },
   "outputs": [],
   "source": []
  },
  {
   "cell_type": "code",
   "execution_count": null,
   "metadata": {
    "collapsed": true
   },
   "outputs": [],
   "source": []
  },
  {
   "cell_type": "code",
   "execution_count": null,
   "metadata": {
    "collapsed": true
   },
   "outputs": [],
   "source": []
  },
  {
   "cell_type": "code",
   "execution_count": null,
   "metadata": {
    "collapsed": true
   },
   "outputs": [],
   "source": []
  },
  {
   "cell_type": "code",
   "execution_count": null,
   "metadata": {
    "collapsed": true
   },
   "outputs": [],
   "source": []
  },
  {
   "cell_type": "code",
   "execution_count": null,
   "metadata": {
    "collapsed": true
   },
   "outputs": [],
   "source": []
  }
 ],
 "metadata": {
  "kernelspec": {
   "display_name": "Python 2",
   "language": "python",
   "name": "python2"
  },
  "language_info": {
   "codemirror_mode": {
    "name": "ipython",
    "version": 2
   },
   "file_extension": ".py",
   "mimetype": "text/x-python",
   "name": "python",
   "nbconvert_exporter": "python",
   "pygments_lexer": "ipython2",
   "version": "2.7.11"
  }
 },
 "nbformat": 4,
 "nbformat_minor": 0
}
