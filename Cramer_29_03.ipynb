{
 "cells": [
  {
   "cell_type": "code",
   "execution_count": 2,
   "metadata": {
    "collapsed": false,
    "scrolled": true
   },
   "outputs": [
    {
     "name": "stdout",
     "output_type": "stream",
     "text": [
      "\n",
      "SOLUCION DE UN SISTEMA DE ECUACIONES 3X3\n",
      "\n",
      "Digite el coeficiente [1][1]:0.2\n",
      "Digite el coeficiente [1][2]:2.0\n",
      "Digite el coeficiente [1][3]:0.35\n",
      "Digite el coeficiente [2][1]:1.0\n",
      "Digite el coeficiente [2][2]:1.0\n",
      "Digite el coeficiente [2][3]:3.7\n",
      "Digite el coeficiente [3][1]:2.0\n",
      "Digite el coeficiente [3][2]:0.7\n",
      "Digite el coeficiente [3][3]:7.0\n",
      "Ingrese solucion [1]3.0\n",
      "Ingrese solucion [2]5.0\n",
      "Ingrese solucion [3]-2.0\n",
      "\n",
      "matriz de coeficientes : \n",
      "[[0.2, 2.0, 0.35], [1.0, 1.0, 3.7], [2.0, 0.7, 7.0]]\n",
      "\u000b",
      "ector solucion: \n",
      "[3.0, 5.0, -2.0]\n",
      "\n",
      "El determinante de la matriz de coeficientes es= 1.2270\n",
      "\n",
      "X1= -56.8\n",
      " X2= 4.5\n",
      "X3= 15.5\n"
     ]
    }
   ],
   "source": [
    "matriz=[]\n",
    "sol=[]\n",
    "\n",
    "print \"\\nSOLUCION DE UN SISTEMA DE ECUACIONES 3X3\\n\"\n",
    "\n",
    "for i in range(3):\n",
    "    matriz.append([])\n",
    "    for j in range(3):\n",
    "        m=float(input((\"Digite el coeficiente [%d][%d]:\")%(i+1,j+1)))\n",
    "        matriz[i].append(m)\n",
    "\n",
    "for k in range(3):\n",
    "    n=float(input((\"Ingrese solucion [%d]\")%(k+1)))\n",
    "    sol.append(n)\n",
    "\n",
    "\n",
    "print \"\\nmatriz de coeficientes : \" \n",
    "print matriz\n",
    "\n",
    "print \"\\vector solucion: \"\n",
    "print sol\n",
    "\n",
    "det=(matriz[0][0]*(matriz[1][1]*matriz[2][2]-matriz[1][2]*matriz[2][1]))-(matriz[0][1]*(matriz[1][0]*matriz[2][2]-matriz[1][2]*matriz[2][0]))+(matriz[0][2]*(matriz[1][0]*matriz[2][1]-matriz[1][1]*matriz[2][0]))\n",
    "print \"\\nEl determinante de la matriz de coeficientes es= %.4f\\n\"%det \n",
    "\n",
    "d1=(sol[0]*(matriz[1][1]*matriz[2][2]-matriz[1][2]*matriz[2][1]))-(sol[1]*(matriz[0][1]*matriz[2][2]-matriz[2][1]*matriz[0][2]))+(sol[2]*(matriz[0][1]*matriz[1][2]-matriz[1][1]*matriz[0][2]))\n",
    "\n",
    "d2=-1*(sol[0]*(matriz[1][0]*matriz[2][2]-matriz[2][0]*matriz[1][2]))+(sol[1]*(matriz[0][0]*matriz[2][2]-matriz[2][0]*matriz[0][2]))-(sol[2]*(matriz[0][0]*matriz[1][2]-matriz[1][0]*matriz[0][2]))\n",
    "\n",
    "d3=(sol[0]*(matriz[1][0]*matriz[2][1]-matriz[2][0]*matriz[1][1]))-(sol[1]*(matriz[0][0]*matriz[2][1]-matriz[2][0]*matriz[0][1]))+(sol[2]*(matriz[0][0]*matriz[1][1]-matriz[1][0]*matriz[0][1]))\n",
    "\n",
    "x1=d1/det\n",
    "x2=d2/det\n",
    "x3=d3/det\n",
    "\n",
    "print \"X1= %.1f\"%x1\n",
    "print \" X2= %.1f\"%x2\n",
    "print \"X3= %.1f\"%x3\n",
    "#0.2X1 + 2.0X2 +0.35X3 = 3.0 , X1 + X2 + 3.7X3 = 5.0 , 2.0X1 + 0.7X2 + 7.0X3 = -2.0"
   ]
  },
  {
   "cell_type": "code",
   "execution_count": null,
   "metadata": {
    "collapsed": true
   },
   "outputs": [],
   "source": []
  },
  {
   "cell_type": "code",
   "execution_count": null,
   "metadata": {
    "collapsed": true
   },
   "outputs": [],
   "source": []
  }
 ],
 "metadata": {
  "kernelspec": {
   "display_name": "Python 2",
   "language": "python",
   "name": "python2"
  },
  "language_info": {
   "codemirror_mode": {
    "name": "ipython",
    "version": 2
   },
   "file_extension": ".py",
   "mimetype": "text/x-python",
   "name": "python",
   "nbconvert_exporter": "python",
   "pygments_lexer": "ipython2",
   "version": "2.7.11"
  }
 },
 "nbformat": 4,
 "nbformat_minor": 0
}
