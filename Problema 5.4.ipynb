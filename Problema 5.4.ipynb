{
 "cells": [
  {
   "cell_type": "code",
   "execution_count": 35,
   "metadata": {
    "collapsed": false
   },
   "outputs": [
    {
     "data": {
      "image/png": "[encoded data removed]",
      "text/plain": [
       "<matplotlib.figure.Figure at 0x77137b8>"
      ]
     },
     "metadata": {},
     "output_type": "display_data"
    },
    {
     "name": "stdout",
     "output_type": "stream",
     "text": [
      "╒═══════════╤═════════════════╤════════════════════╕\n",
      "│      Raiz │ Er porc verd    │ Eaprox             │\n",
      "╞═══════════╪═════════════════╪════════════════════╡\n",
      "│ -0.287425 │ 31.4601829713 % │ ----- %            │\n",
      "├───────────┼─────────────────┼────────────────────┤\n",
      "│ -0.379449 │ 9.51606378962 % │ 24.2519502364 %    │\n",
      "├───────────┼─────────────────┼────────────────────┤\n",
      "│ -0.405232 │ 3.36776109117 % │ 6.36257916392 %    │\n",
      "├───────────┼─────────────────┼────────────────────┤\n",
      "│ -0.412173 │ 1.71256344116 % │ 1.68403786686 %    │\n",
      "├───────────┼─────────────────┼────────────────────┤\n",
      "│ -0.414022 │ 1.27182454032 % │ 0.446416535893 %   │\n",
      "├───────────┼─────────────────┼────────────────────┤\n",
      "│ -0.414512 │ 1.15481059907 % │ 0.118381017798 %   │\n",
      "├───────────┼─────────────────┼────────────────────┤\n",
      "│ -0.414642 │ 1.12376823806 % │ 0.0313951699501 %  │\n",
      "├───────────┼─────────────────┼────────────────────┤\n",
      "│ -0.414677 │ 1.11553478731 % │ 0.00832633390661 % │\n",
      "╘═══════════╧═════════════════╧════════════════════╛\n"
     ]
    }
   ],
   "source": [
    "import math\n",
    "import matplotlib.pyplot as plt\n",
    "from tabulate import tabulate\n",
    "%matplotlib inline\n",
    "\n",
    "\n",
    "valores,funcion,raices, tabla, Eaprox=[],[],[],[],[]\n",
    "x=-4\n",
    "f1,f2,f3=1.0,1.0,1.0\n",
    "true=-0.419355\n",
    "xl, xu, xr=-1.0,0.0,0.0\n",
    "Es=0.01\n",
    "\n",
    "while(x<=7):\n",
    "    fx=-12-21*x+18*math.pow(x,2)-2.75*math.pow(x,3)\n",
    "    valores.append(x)\n",
    "    funcion.append(fx)\n",
    "    x+=0.1\n",
    "\n",
    "def metodo1(x):\n",
    "    fx=-12-21*x+18*math.pow(x,2)-2.75*math.pow(x,3)\n",
    "    return fx\n",
    "\n",
    "b=0\n",
    "while 1:\n",
    "    f1=metodo1(xl)\n",
    "    f2=metodo1(xu)\n",
    "    xr=xu-(f2*(xl-xu))/(f1-f2)\n",
    "    raices.append(xr)\n",
    "    f3=metodo1(xr)\n",
    "    erpv=math.fabs(((true-xr)/true)*100)\n",
    "    if(b==0):\n",
    "        Eaprox.append(\"-----\")\n",
    "        eaprx=100\n",
    "    else:\n",
    "        k=b-1\n",
    "        eaprx=math.fabs(((raices[b]-raices[k])/raices[b])*100)\n",
    "        Eaprox.append(eaprx)\n",
    "    tabla.append([xr, str(erpv)+\" %\", str(Eaprox[b])+\" %\"])\n",
    "    if ((f1*f3)<0):\n",
    "        xu=xr\n",
    "    if((f1*f3)>0):\n",
    "         xl=xr\n",
    "    if(eaprx<Es):\n",
    "        break    \n",
    "    b+=1    \n",
    "\n",
    "plt.title(\"f(x)\")\n",
    "plt.axis([-4, 8, -200, 200])\n",
    "plt.ylabel('f(x)')\n",
    "plt.xlabel('x')\n",
    "plt.axhline(0, color=\"red\")\n",
    "plt.plot(valores, funcion, 'r-', linewidth=2)\n",
    "plt.plot(true,0, 'co', label='Raiz Exacta=-0.419355')\n",
    "plt.legend(loc = 'upper right', numpoints = 1)\n",
    "plt.show()\n",
    "\n",
    "print tabulate(tabla, headers=[\"Raiz\",\"Er porc verd\",\"Eaprox\"], tablefmt=\"fancy_grid\")"
   ]
  },
  {
   "cell_type": "code",
   "execution_count": null,
   "metadata": {
    "collapsed": true
   },
   "outputs": [],
   "source": []
  },
  {
   "cell_type": "code",
   "execution_count": null,
   "metadata": {
    "collapsed": true
   },
   "outputs": [],
   "source": []
  }
 ],
 "metadata": {
  "kernelspec": {
   "display_name": "Python 2",
   "language": "python",
   "name": "python2"
  },
  "language_info": {
   "codemirror_mode": {
    "name": "ipython",
    "version": 2
   },
   "file_extension": ".py",
   "mimetype": "text/x-python",
   "name": "python",
   "nbconvert_exporter": "python",
   "pygments_lexer": "ipython2",
   "version": "2.7.11"
  }
 },
 "nbformat": 4,
 "nbformat_minor": 0
}
