{
 "cells": [
  {
   "cell_type": "code",
   "execution_count": 18,
   "metadata": {
    "collapsed": false
   },
   "outputs": [
    {
     "name": "stdout",
     "output_type": "stream",
     "text": [
      "17.1)\n",
      "\n",
      "a) La media de los datos es=  9.652\n",
      "b) La desviacion estandar es=  0.703041013503\n",
      "c) La varianza es=  0.494266666667\n",
      "d) El coeficiente de variacion es=  0.0728388948925\n",
      "e) Intervalo de confianza: 9.3617846696 <= media <= 9.9422153304\n",
      "\n",
      "17.2)\n",
      "\n"
     ]
    },
    {
     "data": {
      "image/png": "[encoded data removed]",
      "text/plain": [
       "<matplotlib.figure.Figure at 0x3637668>"
      ]
     },
     "metadata": {},
     "output_type": "display_data"
    }
   ],
   "source": [
    "\n",
    "#17.3) Dados los datos: 28.65, 26.55, 26.65, 27.65, 27.35, 28.35, 26.85, 28.65, 29.65, 27.85, 27.05, 28.25, 28.35, 26.75, 27.65, 28.45, 28.65, 28.45, 31.65, 26.35, 27.75, 29.25, 27.65, 28.65, \n",
    "#27.65, 28.55, 27.55, 27.25. \n",
    "Determine a) la media, b) la desviación estándar, c) la varianza, d) el coeficiente de variación, y e) el intervalo de confianza del 90% para la media. f ) Construya un histograma. \n",
    "Use un rango de 26 a 32 con incrementos de 0.5. g) Si se supone que la distribución es normal y que la estimación de la desviación estándar es válida, \n",
    "calcule el rango (es decir, los valores inferior y superior) que agrupa al 68% de los datos. Determine si esta es una estimación válida para los datos del problema."
   ]
  },
  {
   "cell_type": "markdown",
   "metadata": {},
   "source": []
  },
  {
   "cell_type": "code",
   "execution_count": null,
   "metadata": {
    "collapsed": true
   },
   "outputs": [],
   "source": []
  }
 ],
 "metadata": {
  "kernelspec": {
   "display_name": "Python 2",
   "language": "python",
   "name": "python2"
  },
  "language_info": {
   "codemirror_mode": {
    "name": "ipython",
    "version": 2
   },
   "file_extension": ".py",
   "mimetype": "text/x-python",
   "name": "python",
   "nbconvert_exporter": "python",
   "pygments_lexer": "ipython2",
   "version": "2.7.11"
  }
 },
 "nbformat": 4,
 "nbformat_minor": 0
}
