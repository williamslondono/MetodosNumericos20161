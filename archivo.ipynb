{
 "cells": [
  {
   "cell_type": "code",
   "execution_count": 1,
   "metadata": {
    "collapsed": false
   },
   "outputs": [
    {
     "name": "stdout",
     "output_type": "stream",
     "text": [
      "Solucion: 0.0\n",
      "Solucion: 19.6\n",
      "Solucion: 32.0046989721\n",
      "Solucion: 39.855543696\n",
      "Solucion: 44.8242868326\n",
      "Solucion: 47.9689686121\n",
      "Solucion: 49.9592150834\n",
      "Solucion: 51.2188277547\n",
      "Solucion: 52.0160275511\n",
      "Solucion: 52.5205695661\n",
      "Solucion: 52.8398905771\n",
      "Solucion: 53.0419865473\n",
      "Solucion: 53.1698916327\n",
      "Solucion: 53.250841841\n",
      "Solucion: 53.3020746453\n",
      "Solucion: 53.3344995186\n",
      "Solucion: 53.3550209875\n",
      "Solucion: 53.3680088776\n",
      "Solucion: 53.3762288197\n",
      "Solucion: 53.381431162\n",
      "Solucion: 53.3847236869\n",
      "Solucion: 53.3868075023\n",
      "Solucion: 53.3881263341\n",
      "Solucion: 53.3889610132\n",
      "Solucion: 53.3894892756\n",
      "Solucion: 53.3898236091\n",
      "Solucion: 53.3900352063\n",
      "Solucion: 53.3901691247\n",
      "Solucion: 53.3902538807\n",
      "Solucion: 53.3903075221\n",
      "Solucion: 53.3903414714\n",
      "Solucion: 53.3903629577\n",
      "Solucion: 53.3903765562\n",
      "Solucion: 53.3903851626\n",
      "Solucion: 53.3903906095\n",
      "Solucion: 53.3903940568\n",
      "Solucion: 53.3903962386\n",
      "Solucion: 53.3903976194\n",
      "Solucion: 53.3903984934\n",
      "Solucion: 53.3903990465\n",
      "Solucion: 53.3903993965\n",
      "Solucion: 53.3903996181\n",
      "Solucion: 53.3903997583\n",
      "Solucion: 53.390399847\n",
      "Solucion: 53.3903999032\n",
      "Solucion: 53.3903999387\n",
      "Solucion: 53.3903999612\n",
      "Solucion: 53.3903999755\n",
      "Solucion: 53.3903999845\n",
      "Solucion: 53.3903999902\n"
     ]
    }
   ],
   "source": [
    "import math\n",
    "import matplotlib.pyplot as plt\n",
    "g=9.8\n",
    "m=68.1\n",
    "c=12.5\n",
    "ti=0\n",
    "ti1=0\n",
    "cont=0\n",
    "vt1=0\n",
    "vti=0\n",
    "lis1=[0,0,0,0,0,0,0,0]\n",
    "lis2=[1,2,3,4,5,6,7,8]\n",
    "ejex=[]\n",
    "ejey=[]\n",
    "ejex2=[]\n",
    "ejey2=[]\n",
    "for t in range(50):\n",
    "    v=((g*m)/c)*(1-(math.exp((-c/m)*t)))\n",
    "    vt1=vti+(g-(c/m)*vti)*(ti1-ti)\n",
    "    \n",
    "    vti=vt1\n",
    "    ti=ti1\n",
    "    ti1=ti+2\n",
    "    \n",
    "    ejex.append(ti)\n",
    "    ejey.append(vt1)\n",
    "    ejex2.append(t)\n",
    "    ejey2.append(v)\n",
    "    print \"Solucion: \"+str(vt1)\n",
    "    \n",
    "plt.plot(ejex,ejey)\n",
    "plt.plot(ejex2,ejey2)\n",
    "\n",
    "plt.ylabel('some numbers')\n",
    "plt.show()"
   ]
  },
  {
   "cell_type": "code",
   "execution_count": null,
   "metadata": {
    "collapsed": true
   },
   "outputs": [],
   "source": []
  },
  {
   "cell_type": "code",
   "execution_count": null,
   "metadata": {
    "collapsed": true
   },
   "outputs": [],
   "source": []
  }
 ],
 "metadata": {
  "kernelspec": {
   "display_name": "Python 2",
   "language": "python",
   "name": "python2"
  },
  "language_info": {
   "codemirror_mode": {
    "name": "ipython",
    "version": 2
   },
   "file_extension": ".py",
   "mimetype": "text/x-python",
   "name": "python",
   "nbconvert_exporter": "python",
   "pygments_lexer": "ipython2",
   "version": "2.7.10"
  }
 },
 "nbformat": 4,
 "nbformat_minor": 0
}
