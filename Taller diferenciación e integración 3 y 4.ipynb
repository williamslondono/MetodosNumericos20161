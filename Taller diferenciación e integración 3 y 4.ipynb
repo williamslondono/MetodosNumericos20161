{
 "cells": [
  {
   "cell_type": "code",
   "execution_count": 5,
   "metadata": {
    "collapsed": false
   },
   "outputs": [
    {
     "name": "stdout",
     "output_type": "stream",
     "text": [
      "Simpson 1/3 para un segmento y ejemplo 21.4:\n",
      " \n",
      "    valor Simpson simple es = 1.367467 y el error=16.64\n",
      "\n",
      "Simpson 1/3 para multiples segmentos y ejemplo 21.5:\n",
      " \n",
      "    valor Simpson de aplicación múltiple es = 1.623467 y el error = 1.04\n"
     ]
    }
   ],
   "source": [
    "#3) Implemente la regla de Simpson 1/3 para uns segmento y múltiples segmentos (sub 21.2.2) de las Figuras 21.13a y 21.13c\n",
    "#4)Desarrolle el Ejemplo 21.4 y 21.5\n",
    "import math\n",
    "\n",
    "real=1.640533\n",
    "\n",
    "def function(x):\n",
    "    fx=0.2+(25*x)-(200*(math.pow(x,2)))+(675*(math.pow(x,3)))-(900*(math.pow(x,4)))+(400*(math.pow(x,5)))\n",
    "    return fx\n",
    "\n",
    "def vector():\n",
    "    j,k=0,0\n",
    "    global aux,aux2\n",
    "    aux=[]\n",
    "    aux2=[]\n",
    "    while j<1.0:\n",
    "        aux.append(function(j))\n",
    "        j+=0.2\n",
    "    while k<1.0:\n",
    "        aux2.append(function(k))\n",
    "        k+=0.4\n",
    "        \n",
    "def simp13(h,f0,f1,f2):\n",
    "    Simp13=2*h*(f0+4*f1+f2)/6\n",
    "    return Simp13\n",
    "\n",
    "def simp13m(h,n,f):\n",
    "    sum=function(0)\n",
    "    for i in range (1,n-1,2):\n",
    "        sum=sum+4*f[i]+2*f[i+1]\n",
    "    sum=sum+4*f[n-1]+f[n]\n",
    "    Simp13m=h*sum/3\n",
    "    return Simp13m\n",
    "\n",
    "vector()\n",
    "print \"Simpson 1/3 para un segmento y ejemplo 21.4:\\n \"\n",
    "print \"    valor Simpson simple es = %f y el error=%.2f\\\n",
    "\" %(simp13(0.4,aux2[0],aux2[1],aux2[2]),(real-simp13(0.4,aux2[0],aux2[1],aux2[2]))*100/real)\n",
    "print \"\\nSimpson 1/3 para multiples segmentos y ejemplo 21.5:\\n \"\n",
    "print \"    valor Simpson de aplicación múltiple es = %f y el error = %.2f\\\n",
    "\"%(simp13m(0.2,4,aux),(real-simp13m(0.2,4,aux))*100/real)"
   ]
  },
  {
   "cell_type": "code",
   "execution_count": null,
   "metadata": {
    "collapsed": true
   },
   "outputs": [],
   "source": []
  }
 ],
 "metadata": {
  "kernelspec": {
   "display_name": "Python 2",
   "language": "python",
   "name": "python2"
  },
  "language_info": {
   "codemirror_mode": {
    "name": "ipython",
    "version": 2
   },
   "file_extension": ".py",
   "mimetype": "text/x-python",
   "name": "python",
   "nbconvert_exporter": "python",
   "pygments_lexer": "ipython2",
   "version": "2.7.11"
  }
 },
 "nbformat": 4,
 "nbformat_minor": 0
}
