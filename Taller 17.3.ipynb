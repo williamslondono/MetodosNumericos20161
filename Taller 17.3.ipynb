{
 "cells": [
  {
   "cell_type": "code",
   "execution_count": 28,
   "metadata": {
    "collapsed": false
   },
   "outputs": [
    {
     "name": "stdout",
     "output_type": "stream",
     "text": [
      "a) La media de los datos es=  28.0035714286\n",
      "b) La desviacion estandar es=  1.09729706395\n",
      "c) La varianza es=  1.20406084656\n",
      "d) El coeficiente de variacion es=  0.039184182873\n",
      "e) Intervalo de confianza: 27.6504209091 <= media <= 28.3567219481\n",
      "f) Histograma\n",
      "g) El rango que abarca el 68 por ciento es: (26.90627436 , 29.10086849)\n"
     ]
    },
    {
     "data": {
      "image/png": "[encoded data removed]",
      "text/plain": [
       "<matplotlib.figure.Figure at 0x773bd30>"
      ]
     },
     "metadata": {},
     "output_type": "display_data"
    }
   ],
   "source": [
    "#17.3) Dados los datos: 28.65, 26.55, 26.65, 27.65, 27.35, 28.35, 26.85, 28.65, 29.65, 27.85, 27.05, 28.25, 28.35, 26.75, 27.65, 28.45, 28.65, 28.45, 31.65, 26.35, 27.75, 29.25, 27.65, \n",
    "#28.65, 27.65, 28.55, 27.55, 27.25. Determine a) la media, b) la desviación estándar, c) la varianza, d) el coeficiente de variación, y e) el intervalo de confianza del 90% para la media.\n",
    "#f ) Construya un histograma. Use un rango de 26 a 32 con incrementos de 0.5. g) Si se supone que la distribución es normal y que la estimación de la desviación estándar es válida, \n",
    "#calcule el rango (es decir, los valores inferior y superior) que agrupa al 68% de los datos. Determine si esta es una estimación válida para los datos del problema.\n",
    "import math\n",
    "import matplotlib.pyplot as plt\n",
    "from matplotlib.pylab import hist,show\n",
    "%matplotlib inline \n",
    "\n",
    "datos=[28.65, 26.55, 26.65, 27.65, 27.35, 28.35, 26.85, 28.65, 29.65, 27.85, 27.05, 28.25, 28.35, 26.75, 27.65, 28.45, 28.65, 28.45, 31.65, 26.35, 27.75, 29.25, 27.65, 28.65, 27.65, 28.55, 27.55, 27.25]\n",
    "\n",
    "def media():\n",
    "    suma=0.0\n",
    "    for i in range(len(datos)):\n",
    "        suma+=datos[i]\n",
    "    m=suma/len(datos)\n",
    "    return m\n",
    "\n",
    "def varianza():\n",
    "    var=0.0\n",
    "    for j in range(len(datos)):\n",
    "        var+=math.pow((datos[j]-media()),2)\n",
    "    v=var/(len(datos)-1)\n",
    "    return v\n",
    "\n",
    "def confianza():\n",
    "    L=media()-((math.sqrt(varianza())/math.sqrt(len(datos)))*1.703)\n",
    "    U=media()+((math.sqrt(varianza())/math.sqrt(len(datos)))*1.703)\n",
    "    print \"e) Intervalo de confianza: %.10f <= media <= %.10f\" %(L,U)\n",
    "\n",
    "print \"a) La media de los datos es= \",media()\n",
    "print \"b) La desviacion estandar es= \",(math.sqrt(varianza()))\n",
    "print \"c) La varianza es= \",varianza()\n",
    "print \"d) El coeficiente de variacion es= \", (math.sqrt(varianza())/media())\n",
    "confianza()\n",
    "print \"f) Histograma\"\n",
    "lim1=media()-math.sqrt(varianza())\n",
    "lim2=media()+math.sqrt(varianza())\n",
    "print \"g) El rango que abarca el 68 por ciento es: (%.8f , %.8f)\" %(lim1,lim2)\n",
    "hist(datos,28,(26,32))\n",
    "plt.title(\"Histograma\")\n",
    "plt.ylabel('Frecuencia')\n",
    "plt.xlabel('Datos')\n",
    "show()"
   ]
  },
  {
   "cell_type": "markdown",
   "metadata": {},
   "source": []
  },
  {
   "cell_type": "code",
   "execution_count": null,
   "metadata": {
    "collapsed": true
   },
   "outputs": [],
   "source": []
  }
 ],
 "metadata": {
  "kernelspec": {
   "display_name": "Python 2",
   "language": "python",
   "name": "python2"
  },
  "language_info": {
   "codemirror_mode": {
    "name": "ipython",
    "version": 2
   },
   "file_extension": ".py",
   "mimetype": "text/x-python",
   "name": "python",
   "nbconvert_exporter": "python",
   "pygments_lexer": "ipython2",
   "version": "2.7.11"
  }
 },
 "nbformat": 4,
 "nbformat_minor": 0
}
