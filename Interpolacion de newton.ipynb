{
 "cells": [
  {
   "cell_type": "code",
   "execution_count": 2,
   "metadata": {
    "collapsed": false
   },
   "outputs": [
    {
     "data": {
      "image/png": "[encoded data removed]",
      "text/plain": [
       "<matplotlib.figure.Figure at 0x360c780>"
      ]
     },
     "metadata": {},
     "output_type": "display_data"
    }
   ],
   "source": [
    "import math\n",
    "import numpy as np\n",
    "import matplotlib.pyplot as ptl\n",
    "%matplotlib inline\n",
    "\n",
    "def ln(x):\n",
    "    return (math.log(x))\n",
    "\n",
    "def f1(xaux):\n",
    "    return ((ln(xaux[0])-ln(xaux[1]))/(xaux[0]-xaux[1]))\n",
    "\n",
    "def fdf(xaux):\n",
    "    if(len(xaux)>2):\n",
    "        return ((fdf(xaux[:len(xaux)-1]))-(fdf(xaux[1:])))/((xaux[0])-(xaux[len(xaux)-1]))\n",
    "    elif(len(xaux)==2):\n",
    "        return f1(xaux)\n",
    "                \n",
    "\n",
    "def graf():\n",
    "    xaux=[3,2,1]            \n",
    "    ptl.title(\"Interpolacion Newton\")\n",
    "    x=np.arange(1,3,0.1)\n",
    "    y=(ln(xaux[2]))+((x-xaux[2])*fdf(xaux[1:]))+((x-xaux[2])*(x-xaux[1])*fdf(xaux))\n",
    "    ptl.plot(x,y,'-c')\n",
    "    ptl.grid(True)\n",
    "    ptl.show()\n",
    "    \n",
    "graf()"
   ]
  },
  {
   "cell_type": "code",
   "execution_count": null,
   "metadata": {
    "collapsed": true
   },
   "outputs": [],
   "source": []
  }
 ],
 "metadata": {
  "kernelspec": {
   "display_name": "Python 2",
   "language": "python",
   "name": "python2"
  },
  "language_info": {
   "codemirror_mode": {
    "name": "ipython",
    "version": 2
   },
   "file_extension": ".py",
   "mimetype": "text/x-python",
   "name": "python",
   "nbconvert_exporter": "python",
   "pygments_lexer": "ipython2",
   "version": "2.7.11"
  }
 },
 "nbformat": 4,
 "nbformat_minor": 0
}
