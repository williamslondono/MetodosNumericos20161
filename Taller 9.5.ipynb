{
 "cells": [
  {
   "cell_type": "code",
   "execution_count": 25,
   "metadata": {
    "collapsed": false,
    "scrolled": true
   },
   "outputs": [
    {
     "name": "stdout",
     "output_type": "stream",
     "text": [
      "a)\n",
      " metodo grafico:\n",
      "\n",
      "X2:  56.44\n",
      "X2:  56.55\n",
      "X1:  405.0\n"
     ]
    },
    {
     "data": {
      "image/png": "[encoded data removed]",
      "text/plain": [
       "<matplotlib.figure.Figure at 0x6b05b38>"
      ]
     },
     "metadata": {},
     "output_type": "display_data"
    },
    {
     "name": "stdout",
     "output_type": "stream",
     "text": [
      "Reemplazamos  X1 y X2, son cercanos a los valores reales: \n",
      "El resultado para la  ecuacion 1 es 120.00\n",
      "El resultado para la  ecuacion 2 es 173.97\n",
      "\n",
      "b)\n",
      "El sistema se satisface con dos valores para X2.  el determinante es proximo a cero, \n",
      "  el sistema tienda a tener varias soluciones.\n",
      "\n",
      "c)\n",
      "Determinante de la matriz de coeficientes es: 0.86\n",
      "\n",
      "d) Eliminacion de incognitas: \n",
      "    X1 es= 404.6512\n",
      "    X2 es= 56.5116\n"
     ]
    }
   ],
   "source": [
    "#9.5 Dado el sistema de ecuaciones siguiente: –1.1X1+10X2=120; –2X1+17.4X2=17\n",
    "#a)Resuélvalo gráficamente y compruebe el resultado con la sustitución en las ecuaciones.\n",
    "import math\n",
    "import matplotlib.pyplot as plt\n",
    "%matplotlib inline\n",
    "\n",
    "equis1=[]\n",
    "funcion1=[]\n",
    "funcion2=[]\n",
    "i=0\n",
    "print \"a)\\n metodo grafico:\\n\"\n",
    "while i<500:\n",
    "    x2=float(format((0.11*i)+12.0, '.4g'))\n",
    "    x2b=float(format(((2.0/17.4)*i)+10, '.4g'))\n",
    "    equis1.append(i)\n",
    "    funcion1.append(x2)\n",
    "    funcion2.append(x2b)\n",
    "    if(x2==x2b):\n",
    "        x=x2\n",
    "        x1=((10.0*x)-120)/1.1\n",
    "        print \"X2: \", x\n",
    "    i+=1\n",
    "print \"X1: \",x1\n",
    "a=x1\n",
    "b=x2\n",
    "plt.title(\"Sistema de ecuaciones\")\n",
    "plt.grid(True)\n",
    "plt.axis([380,430,53,60])\n",
    "plt.ylabel('x2')\n",
    "plt.xlabel('x1')\n",
    "plt.axhline(0, color=\"black\")\n",
    "plt.plot(equis1, funcion1, 'm-', linewidth=1.0)\n",
    "plt.plot(equis1, funcion2, 'y-',linewidth=1.0)\n",
    "plt.plot(405,56.55, 'co', label=\"Pto corte:\\nx1=404.6512\\nx2=56.5116\")\n",
    "plt.legend(loc = 'upper right', numpoints = 1)\n",
    "plt.show()\n",
    "\n",
    "print \"Reemplazamos  X1 y X2, son cercanos a los valores reales: \"\n",
    "ecuacion1=-1.1*x1+10*x\n",
    "print \"El resultado para la  ecuacion 1 es %.2f\" %ecuacion1\n",
    "ecuacion2=-2*x1+17.4*x\n",
    "print \"El resultado para la  ecuacion 2 es %.2f\" %ecuacion2\n",
    "print \"\\nb)\\nEl sistema se satisface con dos valores para X2.  el determinante es proximo a cero, \\n  el sistema tienda a tener varias soluciones.\"\n",
    "\n",
    "matrizCoef=[[-1.1,10],[-2,17.4]]\n",
    "det=matrizCoef[0][0]*matrizCoef[1][1]-matrizCoef[0][1]*matrizCoef[1][0]\n",
    "print \"\\nc)\\nDeterminante de la matriz de coeficientes es: %.2f\" %det\n",
    "\n",
    "aux=[]\n",
    "sol=[120,174]\n",
    "aux2=[]\n",
    "for i in range(len(matrizCoef)):\n",
    "    aux.append([])\n",
    "    if(i==0):\n",
    "        for j in range(len(matrizCoef[0])):\n",
    "            aux[i].append(matrizCoef[1][0]*matrizCoef[i][j])\n",
    "        aux2.append(matrizCoef[1][0]*sol[i])\n",
    "    else:\n",
    "        for j in range(len(matrizCoef[1])):\n",
    "            aux[i].append(matrizCoef[0][0]*matrizCoef[i][j])\n",
    "        aux2.append(matrizCoef[0][0]*sol[i])\n",
    "print \"\\nd) Eliminacion de incognitas: \"\n",
    "var2=(aux2[0]-aux2[1])/(aux[0][1]-aux[1][1])\n",
    "var1=(sol[0]-matrizCoef[0][1]*var2)/matrizCoef[0][0]\n",
    "print \"    X1 es= %.4f\" %var1\n",
    "print \"    X2 es= %.4f\" %var2\n",
    "\n"
   ]
  },
  {
   "cell_type": "code",
   "execution_count": null,
   "metadata": {
    "collapsed": true
   },
   "outputs": [],
   "source": []
  },
  {
   "cell_type": "code",
   "execution_count": null,
   "metadata": {
    "collapsed": true
   },
   "outputs": [],
   "source": []
  }
 ],
 "metadata": {
  "kernelspec": {
   "display_name": "Python 2",
   "language": "python",
   "name": "python2"
  },
  "language_info": {
   "codemirror_mode": {
    "name": "ipython",
    "version": 2
   },
   "file_extension": ".py",
   "mimetype": "text/x-python",
   "name": "python",
   "nbconvert_exporter": "python",
   "pygments_lexer": "ipython2",
   "version": "2.7.11"
  }
 },
 "nbformat": 4,
 "nbformat_minor": 0
}
