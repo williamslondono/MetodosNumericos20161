{
 "cells": [
  {
   "cell_type": "code",
   "execution_count": 43,
   "metadata": {
    "collapsed": false
   },
   "outputs": [
    {
     "name": "stdout",
     "output_type": "stream",
     "text": [
      "X1= 5000.000000 and X2= 0.002000\n",
      "X1= 5000.000000 and X2= 0.002000\n",
      "\n",
      "\n",
      "╒═════════════╤═════════════╕\n",
      "│   Proceso 1 │   Proceso 2 │\n",
      "╞═════════════╪═════════════╡\n",
      "│        5000 │       0.002 │\n",
      "├─────────────┼─────────────┤\n",
      "│        5000 │       0.002 │\n",
      "╘═════════════╧═════════════╛\n"
     ]
    }
   ],
   "source": [
    "import math\n",
    "from tabulate import tabulate \n",
    "\n",
    "k=1\n",
    "l=-5000.002\n",
    "m=10\n",
    "disc=math.pow(b,2)-4*k*m\n",
    "met1=[]\n",
    "met2=[]\n",
    "tabla=[]\n",
    "\n",
    "if(disc<0):\n",
    "    print \"raices imaginarias\"\n",
    "else:\n",
    "    x=(-l+math.sqrt(disc))/(2*k) \n",
    "    x2=(-l-math.sqrt(disc))/(2*k)  \n",
    "    print \"X1= %f and X2= %f\" %(round(x1,5),round(x2,5))  \n",
    "met1.append(x1)\n",
    "met1.append(x2)\n",
    "\n",
    "xl1=(-2*m)/(l+math.sqrt(disc))\n",
    "xl2=(-2*m)/(l-math.sqrt(disc))\n",
    "print \"X1= %f and X2= %f\" %(round(xl1,5),round(xl2,5)) \n",
    "met2.append(xl1)\n",
    "met2.append(xl2)\n",
    "\n",
    "tabla=([met1[0:],met2[0:]])\n",
    "print\"\\n\"\n",
    "print tabulate(tabla, headers=[\"Proceso 1\", \"Proceso 2\"], tablefmt=\"fancy_grid\")\n",
    "\n",
    "\n",
    "\n"
   ]
  },
  {
   "cell_type": "code",
   "execution_count": null,
   "metadata": {
    "collapsed": true
   },
   "outputs": [],
   "source": []
  },
  {
   "cell_type": "code",
   "execution_count": null,
   "metadata": {
    "collapsed": true
   },
   "outputs": [],
   "source": []
  }
 ],
 "metadata": {
  "kernelspec": {
   "display_name": "Python 2",
   "language": "python",
   "name": "python2"
  },
  "language_info": {
   "codemirror_mode": {
    "name": "ipython",
    "version": 2
   },
   "file_extension": ".py",
   "mimetype": "text/x-python",
   "name": "python",
   "nbconvert_exporter": "python",
   "pygments_lexer": "ipython2",
   "version": "2.7.11"
  }
 },
 "nbformat": 4,
 "nbformat_minor": 0
}
