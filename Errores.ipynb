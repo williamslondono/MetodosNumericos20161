{
 "cells": [
  {
   "cell_type": "code",
   "execution_count": 10,
   "metadata": {
    "collapsed": false,
    "scrolled": true
   },
   "outputs": [
    {
     "name": "stdout",
     "output_type": "stream",
     "text": [
      "   Cont                  e                                   et                             ea      \n",
      " \n",
      "|         0 |                  1.0           |                  0.0            |                100.0 %|\n",
      "|         1 |                  1.5           |       -33.3333333333            |        33.3333333333 %|\n",
      "|         2 |                1.625           |       -38.4615384615            |        7.69230769231 %|\n",
      "|         3 |        1.64583333333           |       -39.2405063291            |        1.26582278481 %|\n",
      "|         4 |            1.6484375           |        -39.336492891            |       0.157977883096 %|\n",
      "|         5 |        1.64869791667           |       -39.3460748697            |      0.0157952930027 %|\n"
     ]
    }
   ],
   "source": [
    "import math\n",
    "e=0.0\n",
    "n=0\n",
    "Et=0.0\n",
    "et=0.0\n",
    "ea=0.0\n",
    "es=0.05      \n",
    "print(\"   Cont                  e                                   et                             ea      \")\n",
    "print(\" \")\n",
    "   \n",
    "while True: \n",
    "    e2=e\n",
    "    e += ((1.0/2.0)**n)/math.factorial(n)\n",
    "    Et=(math.exp(1/2))-e\n",
    "    et=(Et/e)*100\n",
    "    ea=((e-e2)/e)*100\n",
    "    n = n+1\n",
    "    cont =n-1\n",
    "    print '|{0:10} | {1:20}           | {2:20}            | {3:20} %|'.format(cont,e,et,ea,)\n",
    "\n",
    "   # print (str(cont)+\"\\t\"+str(e)+\"\\t\\t\\t\"+str(et)+\"\\t\\t\\t\\t\"+str(ea))\n",
    "    if str(ea)<=str(es):\n",
    "        break  "
   ]
  },
  {
   "cell_type": "code",
   "execution_count": null,
   "metadata": {
    "collapsed": true
   },
   "outputs": [],
   "source": []
  },
  {
   "cell_type": "code",
   "execution_count": null,
   "metadata": {
    "collapsed": true
   },
   "outputs": [],
   "source": []
  },
  {
   "cell_type": "code",
   "execution_count": null,
   "metadata": {
    "collapsed": true
   },
   "outputs": [],
   "source": []
  },
  {
   "cell_type": "code",
   "execution_count": null,
   "metadata": {
    "collapsed": true
   },
   "outputs": [],
   "source": []
  },
  {
   "cell_type": "code",
   "execution_count": null,
   "metadata": {
    "collapsed": true
   },
   "outputs": [],
   "source": []
  },
  {
   "cell_type": "code",
   "execution_count": null,
   "metadata": {
    "collapsed": true
   },
   "outputs": [],
   "source": []
  },
  {
   "cell_type": "code",
   "execution_count": null,
   "metadata": {
    "collapsed": true
   },
   "outputs": [],
   "source": []
  },
  {
   "cell_type": "code",
   "execution_count": null,
   "metadata": {
    "collapsed": true
   },
   "outputs": [],
   "source": []
  },
  {
   "cell_type": "code",
   "execution_count": null,
   "metadata": {
    "collapsed": true
   },
   "outputs": [],
   "source": []
  },
  {
   "cell_type": "code",
   "execution_count": null,
   "metadata": {
    "collapsed": true
   },
   "outputs": [],
   "source": []
  },
  {
   "cell_type": "code",
   "execution_count": null,
   "metadata": {
    "collapsed": true
   },
   "outputs": [],
   "source": []
  },
  {
   "cell_type": "code",
   "execution_count": null,
   "metadata": {
    "collapsed": true
   },
   "outputs": [],
   "source": []
  },
  {
   "cell_type": "code",
   "execution_count": null,
   "metadata": {
    "collapsed": true
   },
   "outputs": [],
   "source": []
  },
  {
   "cell_type": "code",
   "execution_count": null,
   "metadata": {
    "collapsed": true
   },
   "outputs": [],
   "source": []
  },
  {
   "cell_type": "code",
   "execution_count": null,
   "metadata": {
    "collapsed": true
   },
   "outputs": [],
   "source": []
  }
 ],
 "metadata": {
  "kernelspec": {
   "display_name": "Python 2",
   "language": "python",
   "name": "python2"
  },
  "language_info": {
   "codemirror_mode": {
    "name": "ipython",
    "version": 2
   },
   "file_extension": ".py",
   "mimetype": "text/x-python",
   "name": "python",
   "nbconvert_exporter": "python",
   "pygments_lexer": "ipython2",
   "version": "2.7.11"
  }
 },
 "nbformat": 4,
 "nbformat_minor": 0
}
