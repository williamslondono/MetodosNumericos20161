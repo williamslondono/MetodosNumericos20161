{
 "cells": [
  {
   "cell_type": "code",
   "execution_count": 10,
   "metadata": {
    "collapsed": false
   },
   "outputs": [
    {
     "name": "stdout",
     "output_type": "stream",
     "text": [
      "\n",
      "X a evaluar en la funcion Ln(x): 2\n",
      "\n",
      "Valor de x0: 3\n",
      "\n",
      "Valor de x1: 4\n",
      "\n",
      "Valor de x2: 5\n",
      "\n",
      "INTERPOLACIÓN CUADRÁTICA:\n",
      "\n",
      "El valor obtenido es: 0.7463917. Que representa un error del -7.7    \n"
     ]
    },
    {
     "ename": "NameError",
     "evalue": "name 'plt2' is not defined",
     "output_type": "error",
     "traceback": [
      "\u001b[1;31m---------------------------------------------------------------------------\u001b[0m",
      "\u001b[1;31mNameError\u001b[0m                                 Traceback (most recent call last)",
      "\u001b[1;32m<ipython-input-10-a3aa76dd1d66>\u001b[0m in \u001b[0;36m<module>\u001b[1;34m()\u001b[0m\n\u001b[0;32m     45\u001b[0m     \u001b[1;32mprint\u001b[0m \u001b[1;34m\"El valor obtenido es: %.7f. Que representa un error del %.1f    \"\u001b[0m\u001b[1;33m%\u001b[0m\u001b[1;33m(\u001b[0m\u001b[0mvalorAprx\u001b[0m\u001b[1;33m(\u001b[0m\u001b[0mx0\u001b[0m\u001b[1;33m,\u001b[0m\u001b[0mx1\u001b[0m\u001b[1;33m,\u001b[0m\u001b[0mvalor\u001b[0m\u001b[1;33m)\u001b[0m\u001b[1;33m,\u001b[0m \u001b[0merror\u001b[0m\u001b[1;33m)\u001b[0m\u001b[1;33m\u001b[0m\u001b[0m\n\u001b[0;32m     46\u001b[0m \u001b[1;33m\u001b[0m\u001b[0m\n\u001b[1;32m---> 47\u001b[1;33m     \u001b[0mplt2\u001b[0m\u001b[1;33m.\u001b[0m\u001b[0mtitle\u001b[0m\u001b[1;33m(\u001b[0m\u001b[1;34m\"Interpolacion Cuadratica\"\u001b[0m\u001b[1;33m)\u001b[0m\u001b[1;33m\u001b[0m\u001b[0m\n\u001b[0m\u001b[0;32m     48\u001b[0m     \u001b[0mplt2\u001b[0m\u001b[1;33m.\u001b[0m\u001b[0maxis\u001b[0m\u001b[1;33m(\u001b[0m\u001b[1;33m[\u001b[0m\u001b[1;36m0\u001b[0m\u001b[1;33m,\u001b[0m\u001b[1;36m15\u001b[0m\u001b[1;33m,\u001b[0m\u001b[1;36m0\u001b[0m\u001b[1;33m,\u001b[0m\u001b[1;36m4\u001b[0m\u001b[1;33m]\u001b[0m\u001b[1;33m)\u001b[0m\u001b[1;33m\u001b[0m\u001b[0m\n\u001b[0;32m     49\u001b[0m     \u001b[0mplt2\u001b[0m\u001b[1;33m.\u001b[0m\u001b[0mgrid\u001b[0m\u001b[1;33m(\u001b[0m\u001b[0mTrue\u001b[0m\u001b[1;33m)\u001b[0m\u001b[1;33m\u001b[0m\u001b[0m\n",
      "\u001b[1;31mNameError\u001b[0m: name 'plt2' is not defined"
     ]
    }
   ],
   "source": [
    "import math\n",
    "import matplotlib.pyplot as plt\n",
    "%matplotlib inline\n",
    "\n",
    "i=1\n",
    "\n",
    "coef,equis,function,nF=[],[],[],[]\n",
    "\n",
    "valor=int((raw_input(\"\\nX a evaluar en la funcion Ln(x): \")))\n",
    "x0=int((raw_input(\"\\nValor de x0: \")))\n",
    "x1=int((raw_input(\"\\nValor de x1: \")))\n",
    "x2=int((raw_input(\"\\nValor de x2: \")))\n",
    "\n",
    "if(valor>0):\n",
    "    def funcion(num):\n",
    "        value=math.log(num)\n",
    "        return value\n",
    "\n",
    "    def coeficientes():\n",
    "        coef.append(funcion(x0))\n",
    "        coef.append((funcion(x1)-funcion(x0))/(x1-x0))\n",
    "        coef.append((((funcion(x2)-funcion(x1))/(x2-x1))-((funcion(x1)-funcion(x0))/(x1-x0)))/(x2-x0))\n",
    "\n",
    "    def cuadratica(i):\n",
    "        fx2=coef[0]+(coef[1]*(i-x0))+(coef[2]*(i-x0)*(i-x1))\n",
    "        return fx2\n",
    "\n",
    "    def valorAprx(a,b,x):\n",
    "        fx=coef[0]+(coef[1]*(x-a))+(coef[2]*(x-a)*(x-b))\n",
    "        return fx\n",
    "\n",
    "    coeficientes()\n",
    "\n",
    "    while(i<=30):\n",
    "        function.append(funcion(i))\n",
    "        equis.append(i)\n",
    "        nF.append(cuadratica(i))\n",
    "        i+=0.2\n",
    "\n",
    "    if(valor!=1):\n",
    "        error=((funcion(valor)-valorAprx(x0,x1,valor))/funcion(valor))*100\n",
    "    else:\n",
    "        error=0\n",
    "    print \"\\nINTERPOLACIÓN CUADRÁTICA:\\n\"\n",
    "    print \"El valor obtenido es: %.7f. Que representa un error del %.1f\\\n",
    "    \"%(valorAprx(x0,x1,valor), error)\n",
    "\n",
    "    plt2.title(\"Interpolacion Cuadratica\")\n",
    "    plt2.axis([0,15,0,4])\n",
    "    plt2.grid(True)\n",
    "    plt2.ylabel('f(x)')\n",
    "    plt2.xlabel('x')\n",
    "    plt2.plot(valor,funcion(valor), 'bo',linewidth=3.0, label=\"Valor Verdadero\")\n",
    "    plt2.plot(equis,nF, 'g-',linewidth=2.0, label=\"Estimacion cuadratica\")\n",
    "    plt2.plot(x0,funcion(x0), 'yo',linewidth=3.0)\n",
    "    plt2.plot(x1,funcion(x1), 'yo',linewidth=3.0)\n",
    "    plt2.plot(x2,funcion(x2), 'yo',linewidth=3.0)\n",
    "    plt2.plot(equis,function, 'm-',linewidth=2.0, label=\"Ln(x)\")\n",
    "    plt2.legend(loc = 'upper left', numpoints = 1)\n",
    "    plt2.show()\n",
    "else:\n",
    "    print \"ERROR. Ingrese una X mayor a 0\""
   ]
  },
  {
   "cell_type": "code",
   "execution_count": null,
   "metadata": {
    "collapsed": true
   },
   "outputs": [],
   "source": []
  },
  {
   "cell_type": "code",
   "execution_count": null,
   "metadata": {
    "collapsed": true
   },
   "outputs": [],
   "source": []
  }
 ],
 "metadata": {
  "kernelspec": {
   "display_name": "Python 2",
   "language": "python",
   "name": "python2"
  },
  "language_info": {
   "codemirror_mode": {
    "name": "ipython",
    "version": 2
   },
   "file_extension": ".py",
   "mimetype": "text/x-python",
   "name": "python",
   "nbconvert_exporter": "python",
   "pygments_lexer": "ipython2",
   "version": "2.7.11"
  }
 },
 "nbformat": 4,
 "nbformat_minor": 0
}
