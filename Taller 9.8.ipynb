{
 "cells": [
  {
   "cell_type": "code",
   "execution_count": 33,
   "metadata": {
    "collapsed": false,
    "scrolled": true
   },
   "outputs": [
    {
     "name": "stdout",
     "output_type": "stream",
     "text": [
      "a)Gauss simple:\n",
      " \n",
      "El valor de la incognita X1 es 0.5\n",
      "El valor de la incognita X2 es 8.0\n",
      "El valor de la incognita X3 es -6.0\n",
      "\n",
      "b) Sustituyendo los valores:\n",
      " \n",
      "El resultado para la  ecuacion 1 es  27.0\n",
      "El resultado para la  ecuacion 2 es  -61.5\n",
      "El resultado para la ecuacion 3 es  -21.5\n"
     ]
    }
   ],
   "source": [
    "\n",
    "#9.8 Dadas las ecuaciones siguientes: 10X1+2X2–X3=27; –3X1–6X2+2X3=–61.5; X1+X2+5X3=–21.5. \n",
    "#a) Resuelva por eliminación de Gauss simple. Efectúe todos los pasos del cálculo. \n",
    "#b) Sustituya los resultados en las ecuaciones originales a fin de comprobar sus respuestas.\n",
    "\n",
    "\n",
    "matrizCoef=[[10.0,2.0,-1.0],[-3.0,-6.0, 2.0],[1.0,1.0,5.0]]\n",
    "sol=[27.0,-61.5,-21.5]\n",
    "x,d,y,i,j,k=[],0.0,0.0,0,0,0\n",
    "n=len(matrizCoef)\n",
    "\n",
    "for m in range (len(matrizCoef)):\n",
    "    x.append(0*len(matrizCoef[0]))\n",
    "\n",
    "print \"a)Gauss simple:\\n \"\n",
    "\n",
    "for i in range(0,n):\n",
    "    for j in range(i,n):\n",
    "        if(i==j):\n",
    "            d=matrizCoef[i][j]\n",
    "            for s in range (0,n):\n",
    "                matrizCoef[i][s]=((matrizCoef[i][s])/d)\n",
    "            sol[i]=((sol[i])/d)\n",
    "        else:\n",
    "            d=matrizCoef[j][i]\n",
    "            for s in range (0,n):\n",
    "                matrizCoef[j][s]=matrizCoef[j][s]-(d*matrizCoef[i][s])\n",
    "            sol[j]=sol[j]-(d*sol[i])\n",
    "i=n-1\n",
    "j=n-1\n",
    "\n",
    "while(i>=0):\n",
    "    y=sol[i]\n",
    "    while(j>=i):\n",
    "        y=y-x[j]*matrizCoef[i][j]\n",
    "        j-=1\n",
    "    x[i]=y\n",
    "    i-=1\n",
    "    j=n-1\n",
    "for i in range (0,n):\n",
    "    k=i+1\n",
    "    print \"El valor de la incognita X%d es %.1f\"%(k,x[i])\n",
    "    \n",
    "print \"\\nb) Sustituyendo los valores:\\n \"\n",
    "ecuacionA=10*x[0]+2*x[1]-x[2]\n",
    "ecuacionB=-3*x[0]-6*x[1]+2*x[2]\n",
    "ecuacionC=x[0]+x[1]+5*x[2]\n",
    "\n",
    "print \"El resultado para la  ecuacion 1 es \",ecuacionA\n",
    "print \"El resultado para la  ecuacion 2 es \",ecuacionB\n",
    "print \"El resultado para la ecuacion 3 es \",ecuacionC"
   ]
  },
  {
   "cell_type": "code",
   "execution_count": null,
   "metadata": {
    "collapsed": true
   },
   "outputs": [],
   "source": []
  },
  {
   "cell_type": "code",
   "execution_count": null,
   "metadata": {
    "collapsed": true
   },
   "outputs": [],
   "source": []
  }
 ],
 "metadata": {
  "kernelspec": {
   "display_name": "Python 2",
   "language": "python",
   "name": "python2"
  },
  "language_info": {
   "codemirror_mode": {
    "name": "ipython",
    "version": 2
   },
   "file_extension": ".py",
   "mimetype": "text/x-python",
   "name": "python",
   "nbconvert_exporter": "python",
   "pygments_lexer": "ipython2",
   "version": "2.7.11"
  }
 },
 "nbformat": 4,
 "nbformat_minor": 0
}
