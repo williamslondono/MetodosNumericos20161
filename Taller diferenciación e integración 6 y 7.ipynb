{
 "cells": [
  {
   "cell_type": "code",
   "execution_count": 9,
   "metadata": {
    "collapsed": false
   },
   "outputs": [
    {
     "name": "stdout",
     "output_type": "stream",
     "text": [
      "1 derivada es=  -0.9125\n",
      "\n",
      "Diferencias divididas finitas de exactitud O(h):\n",
      "\n",
      "|            |   Hacia adelante O(h) |   Hacia atras O(h) |   Centrada O(h^2) |\n",
      "|:-----------|----------------------:|-------------------:|------------------:|\n",
      "| Estimacion |                -1.155 |             -0.714 |            -0.934 |\n",
      "| Et(%)      |                26.541 |             21.747 |             2.397 |\n",
      "\n",
      " Diferencias divididas finitas de exactitud  O(h^2):\n",
      "\n",
      "|            |   Hacia adelante O(h^2) |   Hacia atras O(h^2) |   Centrada O(h^4) |\n",
      "|:-----------|------------------------:|---------------------:|------------------:|\n",
      "| Estimacion |                 -0.8594 |              -0.8781 |           -0.9125 |\n",
      "| Et(%)      |                  5.8219 |               3.7671 |            0.0000 |\n"
     ]
    }
   ],
   "source": [
    "#6)Implementar las fórmulas de diferencias divididas finitas de las figuras 23.1, 23.2 y 23.3\n",
    "#7)Desarrolle el Ejemplo 23.1\n",
    "import math\n",
    "from tabulate import tabulate\n",
    "\n",
    "xi,h=0.5,0.25\n",
    "x,fun,tabla,tabla2,titulo=[],[],[],[],[\"Estimacion\",\"Et(%)\"]\n",
    "aux1,aux2,aux3,aux4,aux5,aux6=[],[],[],[],[],[]\n",
    "\n",
    "def function(x):\n",
    "    fx=(-0.1*math.pow(x,4))-(0.15*math.pow(x,3))-(0.5*math.pow(x,2))-(0.25*x)+1.2\n",
    "    return fx\n",
    "\n",
    "def functionDer(x):\n",
    "    fx=(-4*0.1*math.pow(x,3))-(3*0.15*math.pow(x,2))-(2*0.5*x)-(0.25)\n",
    "    return fx\n",
    "\n",
    "def error(aprx):\n",
    "    e=math.fabs((functionDer(xi)-aprx)*100/functionDer(xi))\n",
    "    return e\n",
    "\n",
    "def llenar():\n",
    "    z=0\n",
    "    while (z<=1.0):\n",
    "        fun.append(function(z))\n",
    "        z+=h\n",
    "    haciaAdelante()\n",
    "    haciaAtras()\n",
    "    centrada()\n",
    "    \n",
    "def haciaAdelante():\n",
    "    f1=(fun[3]-fun[2])/h\n",
    "    f2=(-fun[4]+4*fun[3]-3*fun[2])/(2*h)\n",
    "    aux1.append(f1)\n",
    "    aux1.append(error(f1))\n",
    "    aux2.append(f2)\n",
    "    aux2.append(error(f2))\n",
    "\n",
    "def haciaAtras():\n",
    "    f1=(fun[2]-fun[1])/h\n",
    "    f2=(3*fun[2]-4*fun[1]+fun[0])/(2*h)\n",
    "    aux3.append(f1)\n",
    "    aux3.append(error(f1))\n",
    "    aux4.append(f2)\n",
    "    aux4.append(error(f2))\n",
    "\n",
    "def centrada():\n",
    "    f1=(fun[3]-fun[1])/(2*h)\n",
    "    f2=(-fun[4]+8*fun[3]-8*fun[1]+fun[0])/(12*h)\n",
    "    aux5.append(f1)\n",
    "    aux5.append(error(f1))\n",
    "    aux6.append(f2)\n",
    "    aux6.append(error(f2))\n",
    "\n",
    "def tabular():\n",
    "    for i in range (2):\n",
    "        tabla.append([titulo[i],aux1[i],aux3[i],aux5[i]])\n",
    "        tabla2.append([titulo[i],aux2[i],aux4[i],aux6[i]])\n",
    "    \n",
    "llenar()\n",
    "print \"1 derivada es= \", functionDer(xi)\n",
    "tabular()\n",
    "print \"\\nDiferencias divididas finitas de exactitud O(h):\\n\"\n",
    "print tabulate(tabla,headers=[\" \",\"Hacia adelante O(h)\", \"Hacia atras O(h)\", \"Centrada O(h^2)\"],tablefmt=\"pipe\",floatfmt=\".3f\")\n",
    "print \"\\n Diferencias divididas finitas de exactitud  O(h^2):\\n\"\n",
    "print tabulate(tabla2,headers=[\" \",\"Hacia adelante O(h^2)\", \"Hacia atras O(h^2)\", \"Centrada O(h^4)\"],tablefmt=\"pipe\",floatfmt=\".4f\")"
   ]
  },
  {
   "cell_type": "code",
   "execution_count": null,
   "metadata": {
    "collapsed": true
   },
   "outputs": [],
   "source": []
  }
 ],
 "metadata": {
  "kernelspec": {
   "display_name": "Python 2",
   "language": "python",
   "name": "python2"
  },
  "language_info": {
   "codemirror_mode": {
    "name": "ipython",
    "version": 2
   },
   "file_extension": ".py",
   "mimetype": "text/x-python",
   "name": "python",
   "nbconvert_exporter": "python",
   "pygments_lexer": "ipython2",
   "version": "2.7.11"
  }
 },
 "nbformat": 4,
 "nbformat_minor": 0
}
