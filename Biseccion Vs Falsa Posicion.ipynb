{
 "cells": [
  {
   "cell_type": "code",
   "execution_count": 23,
   "metadata": {
    "collapsed": false
   },
   "outputs": [
    {
     "name": "stdout",
     "output_type": "stream",
     "text": [
      "|   Proceso | Error Biseccion Error RPV   | Falsa Posicion Error RPV   |   Comparacion |\n",
      "|----------:|:----------------------------|:---------------------------|--------------:|\n",
      "|         1 | 5.27868364433 %             | 0.887018978808 %           |   4.39166     |\n",
      "|         2 | 1.48712466678 %             | 0.0946724895539 %          |   1.39245     |\n",
      "|         3 | 1.89577948878 %             | 0.0101171697496 %          |   1.88566     |\n",
      "|         4 | 0.204327410996 %            | 0.00110176456332 %         |   0.203226    |\n",
      "|         5 | 0.641398627894 %            | 0.000140619920844 %        |   0.641258    |\n",
      "|         6 | 0.218535608449 %            | 3.81520066919e-05 %        |   0.218497    |\n",
      "|         7 | 0.00710409872667 %          | 2.72278837952e-05 %        |   0.00707687  |\n",
      "|         8 | 0.0986116561346 %           | 2.60632612035e-05 %        |   0.0985856   |\n",
      "|         9 | 0.0457537787039 %           | 2.59391005643e-05 %        |   0.0457278   |\n",
      "|        10 | 0.0193248399886 %           | 2.59258638082e-05 %        |   0.0192989   |\n",
      "|        11 | 0.00611037063098 %          | 2.59244526211e-05 %        |   0.00608445  |\n",
      "|        12 | 0.000496864047843 %         | 2.59243021737e-05 %        |   0.00047094  |\n",
      "|        13 | 0.00280675329157 %          | 2.5924286141e-05 %         |   0.00278083  |\n",
      "|        14 | 0.00115494462186 %          | 2.59242844224e-05 %        |   0.00112902  |\n",
      "|        15 | 0.00032904028701 %          | 2.59242842421e-05 %        |   0.000303116 |\n",
      "|        16 | 8.39118804166e-05 %         | 2.59242842181e-05 %        |   5.79876e-05 |\n"
     ]
    },
    {
     "data": {
      "image/png": "[encoded data removed]",
      "text/plain": [
       "<matplotlib.figure.Figure at 0x7152c50>"
      ]
     },
     "metadata": {},
     "output_type": "display_data"
    }
   ],
   "source": [
    "import math\n",
    "from tabulate import tabulate\n",
    "import matplotlib.pyplot as plt\n",
    "%matplotlib inline\n",
    "\n",
    "xVerd=14.7802\n",
    "m=68.1\n",
    "g=9.8\n",
    "v=40.0\n",
    "t=10.0\n",
    "xl=12.0\n",
    "xu=16.0\n",
    "xr=0.0\n",
    "fA=1.0\n",
    "fB=1.0\n",
    "fr1=1.0\n",
    "fr2=1.0\n",
    "fr3=1.0\n",
    "xl2=12.0\n",
    "xu2=16.0\n",
    "xr2=0.0\n",
    "Error1=[]\n",
    "Error2=[]\n",
    "tabla=[]\n",
    "contador=[]\n",
    "aux1=[]\n",
    "aux2=[]\n",
    "cont=0\n",
    "\n",
    "def metodo1(num):\n",
    "    fc=((g*m)/num)*(1-math.exp(-(num/68.1)*10.0))-v\n",
    "    return fc\n",
    "    \n",
    "while ((fA*fB)!=0):\n",
    "    xr=(xl+xu)/2\n",
    "    fA=metodo1(xl)\n",
    "    fB=metodo1(xr)\n",
    "    erpv=math.fabs(((xVerd-xr)/xVerd)*100)\n",
    "    Error1.append(erpv)\n",
    "    if ((fA*fB)<0):\n",
    "        xu=xr\n",
    "    if((fA*fB)>0):\n",
    "         xl=xr   \n",
    "\n",
    "while ((fr1*fr3)!=0):\n",
    "    fr1=metodo1(xl2)\n",
    "    fr2=metodo1(xu2)\n",
    "    xr2=xu2-(fr2*(xl2-xu2))/(fr1-fr2)\n",
    "    fr3=metodo1(xr2)\n",
    "    erpv2=math.fabs(((xV-xr2)/xV)*100)\n",
    "    Error2.append(erpv2)\n",
    "    if ((fr1*fr3)<0):\n",
    "        xu2=xr2\n",
    "    if((fr1*fr3)>0):\n",
    "         xl2=xr2 \n",
    "\n",
    "for d in range (len(Error2)):\n",
    "    diferencia=Error1[d]-Error2[d]\n",
    "    cont+=1\n",
    "    contador.append(cont)\n",
    "    aux1.append(Error1[d])\n",
    "    aux2.append(Error2[d])\n",
    "    tabla.append([cont, str(Error1[d])+\" %\", str(Error2[d])+\" %\", diferencia])\n",
    "\n",
    "print tabulate(tabla, headers=[\"Proceso\", \"Error Biseccion Error RPV\", \"Falsa Posicion Error RPV\", \"Comparacion\"], tablefmt=\"pipe\")\n",
    "\n",
    "plt.title(\"VS\")\n",
    "plt.axis([0, 17, 0, 7])\n",
    "plt.ylabel('Errores RPV')\n",
    "plt.xlabel('Proceso')\n",
    "plt.plot(contador, aux1, 'b-', label=\"Biseccion Error RPV \")\n",
    "plt.plot(contador, aux2, 'r-', label=\"Falsa Posicion Error RPV\")\n",
    "plt.legend(loc = 'upper right', numpoints = 2)\n",
    "plt.show()"
   ]
  },
  {
   "cell_type": "code",
   "execution_count": null,
   "metadata": {
    "collapsed": true
   },
   "outputs": [],
   "source": []
  },
  {
   "cell_type": "code",
   "execution_count": null,
   "metadata": {
    "collapsed": true
   },
   "outputs": [],
   "source": []
  }
 ],
 "metadata": {
  "kernelspec": {
   "display_name": "Python 2",
   "language": "python",
   "name": "python2"
  },
  "language_info": {
   "codemirror_mode": {
    "name": "ipython",
    "version": 2
   },
   "file_extension": ".py",
   "mimetype": "text/x-python",
   "name": "python",
   "nbconvert_exporter": "python",
   "pygments_lexer": "ipython2",
   "version": "2.7.11"
  }
 },
 "nbformat": 4,
 "nbformat_minor": 0
}
