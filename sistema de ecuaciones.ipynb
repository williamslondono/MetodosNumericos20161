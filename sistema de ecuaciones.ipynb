{
 "cells": [
  {
   "cell_type": "code",
   "execution_count": 46,
   "metadata": {
    "collapsed": false
   },
   "outputs": [
    {
     "name": "stdout",
     "output_type": "stream",
     "text": [
      "La solucion para X2= 3\n",
      "La solucion para X1= 4\n"
     ]
    },
    {
     "data": {
      "image/png": "[encoded data removed]",
      "text/plain": [
       "<matplotlib.figure.Figure at 0x70892b0>"
      ]
     },
     "metadata": {},
     "output_type": "display_data"
    }
   ],
   "source": [
    "import matplotlib.pyplot as plt\n",
    "\n",
    "values, func1, func2=[],[],[]\n",
    "a,b,c=0,0,0\n",
    "\n",
    "for i in range (10):\n",
    "    x2=((-3.0/2.0)*i)+9.0\n",
    "    x2b=((1.0/2.0)*i)+1.0\n",
    "    values.append(i)\n",
    "    func1.append(x2)\n",
    "    func2.append(x2b)\n",
    "\n",
    "while c<=10:\n",
    "    fx1=(-1*a)-3*a+18\n",
    "    fx2=(6*b)-6+2*b\n",
    "    if(fx1==2):\n",
    "        print \"La solucion para X1= %d\"%a\n",
    "        punt1=a\n",
    "    if(fx2==18):\n",
    "        print \"La solucion para X2= %d\"%b\n",
    "        punt2=b\n",
    "    a+=1\n",
    "    b+=1\n",
    "    c+=1\n",
    "    \n",
    "plt.title(\"Sistema de ecuaciones\")\n",
    "plt.grid(True)\n",
    "plt.axis([0,10,0,10])\n",
    "plt.ylabel('x2')\n",
    "plt.xlabel('x1')\n",
    "plt.plot(values, func1, 'm-', linewidth=1.5)\n",
    "plt.plot(values, func2, 'y-',linewidth=1.5)\n",
    "plt.plot(punt1,punt2, 'cs', label=\"Pto corte:\\nx1=4\\nx2=3\")\n",
    "plt.legend(loc = 'upper right', numpoints = 1)\n",
    "plt.show()"
   ]
  },
  {
   "cell_type": "code",
   "execution_count": null,
   "metadata": {
    "collapsed": true
   },
   "outputs": [],
   "source": []
  },
  {
   "cell_type": "code",
   "execution_count": null,
   "metadata": {
    "collapsed": true
   },
   "outputs": [],
   "source": []
  }
 ],
 "metadata": {
  "kernelspec": {
   "display_name": "Python 2",
   "language": "python",
   "name": "python2"
  },
  "language_info": {
   "codemirror_mode": {
    "name": "ipython",
    "version": 2
   },
   "file_extension": ".py",
   "mimetype": "text/x-python",
   "name": "python",
   "nbconvert_exporter": "python",
   "pygments_lexer": "ipython2",
   "version": "2.7.11"
  }
 },
 "nbformat": 4,
 "nbformat_minor": 0
}
