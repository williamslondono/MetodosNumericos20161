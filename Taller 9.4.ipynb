{
 "cells": [
  {
   "cell_type": "code",
   "execution_count": 17,
   "metadata": {
    "collapsed": false,
    "scrolled": true
   },
   "outputs": [
    {
     "name": "stdout",
     "output_type": "stream",
     "text": [
      "La solucion para X1= 4\n",
      "La solucion para X2= 5\n"
     ]
    },
    {
     "data": {
      "image/png": "[encoded data removed]",
      "text/plain": [
       "<matplotlib.figure.Figure at 0x36ae240>"
      ]
     },
     "metadata": {},
     "output_type": "display_data"
    },
    {
     "name": "stdout",
     "output_type": "stream",
     "text": [
      "El resultado de la  ecuacion 1 es: -24\n",
      "El resultado de la  ecuacion 2 es: 34\n"
     ]
    }
   ],
   "source": [
    "#9.4 Use el método gráfico para resolver el sistema siguiente: 4X1-8X2=-24; X1+6*X2=34. Compruebe el resultado por medio de sustituirlo en las ecuaciones.\n",
    "import matplotlib.pyplot as plt\n",
    "%matplotlib inline\n",
    "\n",
    "valores=[]\n",
    "funcion1=[]\n",
    "funcion2=[]\n",
    "a,b,c=0,0,0\n",
    "for i in range (10):\n",
    "    x2=((1.0/2.0)*i)+3.0\n",
    "    x2b=((-1.0/6.0)*i)+(34.0/6.0)\n",
    "    valores.append(i)\n",
    "    funcion1.append(x2)\n",
    "    funcion2.append(x2b)\n",
    "\n",
    "while c<=10:\n",
    "    fx1=(-32*a)+136\n",
    "    fx2=(4*a)+18\n",
    "    if(fx1==-24):\n",
    "        print \"La solucion para X2= %d\"%a\n",
    "        punto1=a\n",
    "    if(fx2==34):\n",
    "        print \"La solucion para X1= %d\"%b\n",
    "        punto2=b\n",
    "    a+=1\n",
    "    b+=1\n",
    "    c+=1\n",
    "    \n",
    "plt.title(\"Sistema de ecuaciones\")\n",
    "plt.grid(True)\n",
    "plt.axis([0,10,0,10])\n",
    "plt.ylabel('x2')\n",
    "plt.xlabel('x1')\n",
    "plt.plot(valores, funcion1, 'g-', linewidth=1.5)\n",
    "plt.plot(valores, funcion2, 'r-',linewidth=1.5)\n",
    "plt.plot(punto2,punto1, 'bo', label=\"Punto corte:\\nx1=4\\nx2=5\")\n",
    "plt.legend(loc = 'upper right', numpoints = 1)\n",
    "plt.show()\n",
    "\n",
    "ecuacion1=4*punto2-8*punto1\n",
    "print \"El resultado de la  ecuacion 1 es: %d\" %ecuacion1\n",
    "ecuacion2=punto2+6*punto1\n",
    "print \"El resultado de la  ecuacion 2 es: %d\" %ecuacion2\n"
   ]
  },
  {
   "cell_type": "code",
   "execution_count": null,
   "metadata": {
    "collapsed": true
   },
   "outputs": [],
   "source": []
  },
  {
   "cell_type": "code",
   "execution_count": null,
   "metadata": {
    "collapsed": true
   },
   "outputs": [],
   "source": []
  }
 ],
 "metadata": {
  "kernelspec": {
   "display_name": "Python 2",
   "language": "python",
   "name": "python2"
  },
  "language_info": {
   "codemirror_mode": {
    "name": "ipython",
    "version": 2
   },
   "file_extension": ".py",
   "mimetype": "text/x-python",
   "name": "python",
   "nbconvert_exporter": "python",
   "pygments_lexer": "ipython2",
   "version": "2.7.11"
  }
 },
 "nbformat": 4,
 "nbformat_minor": 0
}
