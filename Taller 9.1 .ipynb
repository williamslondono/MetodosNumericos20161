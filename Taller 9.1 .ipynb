{
 "cells": [
  {
   "cell_type": "code",
   "execution_count": 3,
   "metadata": {
    "collapsed": false,
    "scrolled": true
   },
   "outputs": [
    {
     "name": "stdout",
     "output_type": "stream",
     "text": [
      "La matriz de coeficientes es: \n",
      "[[0, 2, 5], [1, 0, 1], [8, 3, 0]]\n",
      "La matriz transpuesta es: \n",
      "[[0, 1, 8], [2, 0, 3], [5, 1, 0]]\n"
     ]
    }
   ],
   "source": [
    "m=[[0,2,5],[1,0,1],[8,3,0]]\n",
    "mt=[]\n",
    "for i in range(3):#filas\n",
    "    mt.append([])\n",
    "    for j in range(3):#columnas\n",
    "        mt[i].append(m[j][i])\n",
    "\n",
    "print \"La matriz de coeficientes es: \"\n",
    "print m\n",
    "print \"La matriz transpuesta es: \"\n",
    "print mt\n",
    "    "
   ]
  },
  {
   "cell_type": "code",
   "execution_count": null,
   "metadata": {
    "collapsed": true
   },
   "outputs": [],
   "source": []
  },
  {
   "cell_type": "code",
   "execution_count": null,
   "metadata": {
    "collapsed": true
   },
   "outputs": [],
   "source": []
  }
 ],
 "metadata": {
  "kernelspec": {
   "display_name": "Python 2",
   "language": "python",
   "name": "python2"
  },
  "language_info": {
   "codemirror_mode": {
    "name": "ipython",
    "version": 2
   },
   "file_extension": ".py",
   "mimetype": "text/x-python",
   "name": "python",
   "nbconvert_exporter": "python",
   "pygments_lexer": "ipython2",
   "version": "2.7.11"
  }
 },
 "nbformat": 4,
 "nbformat_minor": 0
}
