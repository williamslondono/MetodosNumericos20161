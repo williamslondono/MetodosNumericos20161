{
 "cells": [
  {
   "cell_type": "code",
   "execution_count": 36,
   "metadata": {
    "collapsed": false
   },
   "outputs": [
    {
     "name": "stdout",
     "output_type": "stream",
     "text": [
      "╒══════════════╤═══════════════╤═════════════════╤═══════════════╤════════════════╤═════════════════╕\n",
      "│   Valor Real │   Valor inter │ Error           │   Valor2 Real │   Valor2 inter │ Error2          │\n",
      "╞══════════════╪═══════════════╪═════════════════╪═══════════════╪════════════════╪═════════════════╡\n",
      "│     0.743053 │         0.743 │ 25.6875672652 % │      0.743053 │          0.743 │ 25.6875672652 % │\n",
      "╘══════════════╧═══════════════╧═════════════════╧═══════════════╧════════════════╧═════════════════╛\n"
     ]
    }
   ],
   "source": [
    "\n",
    "import math\n",
    "from tabulate import tabulate\n",
    "\n",
    "x=1.37\n",
    "tabla=[]\n",
    "y1=math.pow(x,3)-(7*(math.pow(x,2)))+(8*x)+0.35\n",
    "nowya=float(format(y1, '.3g'))\n",
    "Erpv1=math.fabs((y1-nowya/y1)*100)\n",
    "y2=((((x-7)*x)+8)*x)+0.35\n",
    "nowya2=float(format(y2, '.3g'))\n",
    "Erpv2=math.fabs((y2-nowya2/y2)*100)\n",
    "\n",
    "tabla.append([y1, nowya,str(Erpv1)+\" %\", y2, nowya2, str(Erpv2)+\" %\"])\n",
    "print tabulate(tabla, headers=[\"Valor Real\", \"Valor inter\",\"Error\", \"Valor2 Real\", \"Valor2 inter\", \"Error2\"], tablefmt=\"fancy_grid\")\n",
    "\n"
   ]
  },
  {
   "cell_type": "code",
   "execution_count": null,
   "metadata": {
    "collapsed": true
   },
   "outputs": [],
   "source": []
  },
  {
   "cell_type": "code",
   "execution_count": null,
   "metadata": {
    "collapsed": true
   },
   "outputs": [],
   "source": []
  }
 ],
 "metadata": {
  "kernelspec": {
   "display_name": "Python 2",
   "language": "python",
   "name": "python2"
  },
  "language_info": {
   "codemirror_mode": {
    "name": "ipython",
    "version": 2
   },
   "file_extension": ".py",
   "mimetype": "text/x-python",
   "name": "python",
   "nbconvert_exporter": "python",
   "pygments_lexer": "ipython2",
   "version": "2.7.11"
  }
 },
 "nbformat": 4,
 "nbformat_minor": 0
}
