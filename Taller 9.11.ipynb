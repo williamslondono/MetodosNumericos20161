{
 "cells": [
  {
   "cell_type": "code",
   "execution_count": 35,
   "metadata": {
    "collapsed": false
   },
   "outputs": [
    {
     "name": "stdout",
     "output_type": "stream",
     "text": [
      "\n",
      "a) Por Gauss Simple con Pivoteo Parcial:\n",
      "    X1 = 4\n",
      "    X2 = 8\n",
      "    X3 = -2\n",
      "\n",
      "b) Sustituyendo los valores de las incognitas, verificamos que:\n",
      "\n",
      "    Satisface la primera ecuacion. Resultado=  -38.0\n",
      "    Satisface la segunda ecuacion. Resultado=  -34.0\n",
      "    Satisface la tercera ecuacion. Resultado=  -20.0\n"
     ]
    }
   ],
   "source": [
    "#9.11) Dadas las ecuaciones 2x1 – 6x2 – x3 = –38 –3x1 – x2 + 7x3 = –34 –8x1 + x2 – 2x3 = –20 a) Resuelva por eliminación de Gauss con pivoteo parcial. \n",
    "#Efectúe todos los pasos del cálculo. b) Sustituya los resultados en las ecuaciones originales para comprobar sus respuestas.\n",
    "\n",
    "m,b,x,n,det,factor,tol,s,er = [[2.0,-6.0,-1.0],[-3.0,-1.0,7.0],[-8.0,1.0,-2.0]],[-38.0,-34.0,-20.0],[],3,1.0,0.0,0.0,[],0.0\n",
    "for z in range(0,n):\n",
    "    x.append(n*0.0)\n",
    "    s.append(n*0.0)\n",
    "        \n",
    "def eliminar(m,s,n,b,tol,er):\n",
    "    for k in range(0,n):\n",
    "        pivot(m,b,s,n,k)\n",
    "        if (abs(m[k][k]/s[k])<tol):\n",
    "            er=-1\n",
    "        for i in range(k+1,n):\n",
    "            factor = m[i][k]/m[k][k]\n",
    "            for j in range (k+1,n):\n",
    "                m[i][j]=m[i][j]-factor*m[k][j]\n",
    "            b[i]=b[i]-factor*b[k]\n",
    "    \n",
    "    if (abs(m[k][k]/s[k])<tol):\n",
    "        er=-1\n",
    "        \n",
    "def pivotear(m,b,s,n,k):\n",
    "    p,k=0,0\n",
    "    p=k\n",
    "    big = abs(m[k][k]/s[k])\n",
    "    for i in range(k+1,n):\n",
    "        dummy = abs(m[i][k]/s[i])\n",
    "        if (dummy>big):\n",
    "            big=dummy\n",
    "            p=i\n",
    "    if (p!=k):\n",
    "        for j in range(k,n):\n",
    "            dummy=m[p][j]\n",
    "            m[p][j]=m[k][j]\n",
    "            m[k][j]=dummy\n",
    "        dummy=b[p]\n",
    "        b[p]=b[k]\n",
    "        b[k]=dummy\n",
    "        dummy=s[p]\n",
    "        s[p]=s[k]\n",
    "        s[k]=dummy\n",
    "    \n",
    "print (\"\\na) Por Gauss Simple con Pivoteo Parcial:\")\n",
    "def sustituir(m,n,b,x):\n",
    "    x[n-1]=b[n-1]/m[n-1][n-1]\n",
    "    i=n-1\n",
    "    while (i>=0):\n",
    "        suma = 0\n",
    "        for j in range(i+1,n):\n",
    "            suma=suma+x[j]*m[i][j]\n",
    "        x[i]=(b[i]-suma)/m[i][i]\n",
    "        i -= 1\n",
    "    for i in range(0,n):\n",
    "        k=i+1\n",
    "        print \"    X%d = %d\"%(k,x[i])\n",
    "    \n",
    "def gauss(m,b,n,x,tol,er):\n",
    "    for i in range(0,n):\n",
    "        s[i]=abs(m[i][1])\n",
    "        for j in range(1,n):\n",
    "            if (abs(m[i][j])>s[i]):\n",
    "                s[i]=abs(m[i][j])\n",
    "    eliminar(m,s,n,b,tol,er)\n",
    "    if (er!=-1):\n",
    "        sustituir(m,n,b,x)\n",
    "\n",
    "def verificar():\n",
    "    print (\"\\nb) Sustituyendo los valores de las incognitas, verificamos que:\\n\")\n",
    "    x1,x2,x3 = x[0],x[1],x[2]\n",
    "    ecuacion1 = round(2*x1 - 6*x2 - x3)\n",
    "    ecuacion2 = round(-3*x1 - x2 + 7*x3)\n",
    "    ecuacion3 = round(-8*x1 + x2 - 2*x3)\n",
    "    if(ecuacion1==-38):\n",
    "        print (\"    Satisface la primera ecuacion. Resultado= \"), ecuacion1\n",
    "    if(ecuacion2==-34):\n",
    "        print (\"    Satisface la segunda ecuacion. Resultado= \"), ecuacion2\n",
    "    if(ecuacion3==-20):\n",
    "        print (\"    Satisface la tercera ecuacion. Resultado= \"), ecuacion3\n",
    "        \n",
    "gauss(m,b,n,x,tol,er)\n",
    "verificar()"
   ]
  },
  {
   "cell_type": "markdown",
   "metadata": {},
   "source": []
  },
  {
   "cell_type": "code",
   "execution_count": null,
   "metadata": {
    "collapsed": true
   },
   "outputs": [],
   "source": []
  }
 ],
 "metadata": {
  "kernelspec": {
   "display_name": "Python 2",
   "language": "python",
   "name": "python2"
  },
  "language_info": {
   "codemirror_mode": {
    "name": "ipython",
    "version": 2
   },
   "file_extension": ".py",
   "mimetype": "text/x-python",
   "name": "python",
   "nbconvert_exporter": "python",
   "pygments_lexer": "ipython2",
   "version": "2.7.11"
  }
 },
 "nbformat": 4,
 "nbformat_minor": 0
}
