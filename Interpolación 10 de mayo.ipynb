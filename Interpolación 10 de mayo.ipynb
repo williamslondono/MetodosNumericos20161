{
 "cells": [
  {
   "cell_type": "code",
   "execution_count": 10,
   "metadata": {
    "collapsed": false
   },
   "outputs": [
    {
     "name": "stdout",
     "output_type": "stream",
     "text": [
      "\n",
      "X a evaluar en la funcion Ln(x): 2\n",
      "\n",
      "Valor de x0: 3\n",
      "\n",
      "Valor de x1: 4\n",
      "\n",
      "Valor de x2: 5\n",
      "\n",
      "INTERPOLACIÓN CUADRÁTICA:\n",
      "\n",
      "El valor obtenido es: 0.7463917. Que representa un error del -7.7    \n"
     ]
    },
    {
     "ename": "NameError",
     "evalue": "name 'plt2' is not defined",
     "output_type": "error",
     "traceback": [
      "\u001b[1;31m---------------------------------------------------------------------------\u001b[0m",
      "\u001b[1;31mNameError\u001b[0m                                 Traceback (most recent call last)",
      "\u001b[1;32m<ipython-input-10-a3aa76dd1d66>\u001b[0m in \u001b[0;36m<module>\u001b[1;34m()\u001b[0m\n\u001b[0;32m     45\u001b[0m     \u001b[1;32mprint\u001b[0m \u001b[1;34m\"El valor obtenido es: %.7f. Que representa un error del %.1f    \"\u001b[0m\u001b[1;33m%\u001b[0m\u001b[1;33m(\u001b[0m\u001b[0mvalorAprx\u001b[0m\u001b[1;33m(\u001b[0m\u001b[0mx0\u001b[0m\u001b[1;33m,\u001b[0m\u001b[0mx1\u001b[0m\u001b[1;33m,\u001b[0m\u001b[0mvalor\u001b[0m\u001b[1;33m)\u001b[0m\u001b[1;33m,\u001b[0m \u001b[0merror\u001b[0m\u001b[1;33m)\u001b[0m\u001b[1;33m\u001b[0m\u001b[0m\n\u001b[0;32m     46\u001b[0m \u001b[1;33m\u001b[0m\u001b[0m\n\u001b[1;32m---> 47\u001b[1;33m     \u001b[0mplt2\u001b[0m\u001b[1;33m.\u001b[0m\u001b[0mtitle\u001b[0m\u001b[1;33m(\u001b[0m\u001b[1;34m\"Interpolacion Cuadratica\"\u001b[0m\u001b[1;33m)\u001b[0m\u001b[1;33m\u001b[0m\u001b[0m\n\u001b[0m\u001b[0;32m     48\u001b[0m     \u001b[0mplt2\u001b[0m\u001b[1;33m.\u001b[0m\u001b[0maxis\u001b[0m\u001b[1;33m(\u001b[0m\u001b[1;33m[\u001b[0m\u001b[1;36m0\u001b[0m\u001b[1;33m,\u001b[0m\u001b[1;36m15\u001b[0m\u001b[1;33m,\u001b[0m\u001b[1;36m0\u001b[0m\u001b[1;33m,\u001b[0m\u001b[1;36m4\u001b[0m\u001b[1;33m]\u001b[0m\u001b[1;33m)\u001b[0m\u001b[1;33m\u001b[0m\u001b[0m\n\u001b[0;32m     49\u001b[0m     \u001b[0mplt2\u001b[0m\u001b[1;33m.\u001b[0m\u001b[0mgrid\u001b[0m\u001b[1;33m(\u001b[0m\u001b[0mTrue\u001b[0m\u001b[1;33m)\u001b[0m\u001b[1;33m\u001b[0m\u001b[0m\n",
      "\u001b[1;31mNameError\u001b[0m: name 'plt2' is not defined"
     ]
    }
   ],
   "source": [
    "import math\n",
    "import matplotlib.pyplot as plt\n",
    "%matplotlib inline\n",
    "\n",
    "coefB,equis,ye,new,xi,yi=[],[],[],[],[],[]\n",
    "n = int(raw_input(\"Ingrese el numero de puntos: \"))\n",
    "x= float(raw_input(\"Ingrese el x al cual quiere estimar: \"))\n",
    "\n",
    "for i in range(n):\n",
    "    xi.append(float(raw_input(\"Ingrese el X%d: \"%(i))))\n",
    "\n",
    "def funcion(num):\n",
    "    value=math.log(num)\n",
    "    return value \n",
    "\n",
    "def coeficientes(vector):\n",
    "    while(len(coefB)<len(vector)):\n",
    "        if(len(coefB)==0):\n",
    "            coefB.append(funcion(vector[0]))\n",
    "        else:\n",
    "            coefB.append(metodo(vector[0:len(coefB)+1]))\n",
    "    \n",
    "def metodo(aux):\n",
    "    r=0\n",
    "    if(len(aux)==2):\n",
    "        r=(funcion(aux[1])-funcion(aux[0]))/(aux[1]-aux[0])\n",
    "    else: \n",
    "        r=(metodo(aux[1:len(aux)])-metodo(aux[0:len(aux)-1]))/(aux[len(aux)-1]-aux[0])\n",
    "    return r\n",
    "\n",
    "def newton(real):\n",
    "    fx=0\n",
    "    for i in range(len(coefB)):\n",
    "        mult=1\n",
    "        for o in range(i):\n",
    "            mult=mult*(real-xi[o])\n",
    "        fx+=coefB[i]*mult\n",
    "    return fx\n",
    "\n",
    "def graficar():\n",
    "    cont=1\n",
    "    for i in range(n):\n",
    "        yi.append(funcion(xi[i]))\n",
    "    while(cont<=14):\n",
    "        equis.append(cont)\n",
    "        ye.append(funcion(cont))\n",
    "        new.append(newton(cont))\n",
    "        cont+=0.2\n",
    "        \n",
    "coeficientes(xi)\n",
    "graficar()\n",
    "print \"El valor real es de Ln(%d) es %.8f\" %(x,funcion(x))\n",
    "print \"El valor aproximado para el Ln(%d) es %.8f\" %(x,newton(x))\n",
    "\n",
    "for k in range (n):\n",
    "    print \"El coeficiente b%d es %.8f\" %(k,coefB[k])\n",
    "\n",
    "plt.title(\"Interpolacion de Newton\")\n",
    "plt.axis([0,15,0,4])\n",
    "plt.grid(True)\n",
    "plt.ylabel('f(x)')\n",
    "plt.xlabel('x')\n",
    "plt.plot(equis,new, 'm-',linewidth=2.0, label=\"Estimacion Newtoniana\")\n",
    "plt.plot(equis,ye, 'c-',linewidth=2.0,label=\"Ln(x)\")\n",
    "plt.plot(xi,yi, 'bo',linewidth=2.0, label=\"Puntos\")\n",
    "plt.plot(x,funcion(x), 'ro',linewidth=3.0, label=\"Valor Verdadero\")\n",
    "plt.legend(loc = 'upper left', numpoints = 1)\n",
    "plt.show()"
   ]
  },
  {
   "cell_type": "code",
   "execution_count": null,
   "metadata": {
    "collapsed": true
   },
   "outputs": [],
   "source": []
  },
  {
   "cell_type": "code",
   "execution_count": null,
   "metadata": {
    "collapsed": true
   },
   "outputs": [],
   "source": []
  }
 ],
 "metadata": {
  "kernelspec": {
   "display_name": "Python 2",
   "language": "python",
   "name": "python2"
  },
  "language_info": {
   "codemirror_mode": {
    "name": "ipython",
    "version": 2
   },
   "file_extension": ".py",
   "mimetype": "text/x-python",
   "name": "python",
   "nbconvert_exporter": "python",
   "pygments_lexer": "ipython2",
   "version": "2.7.11"
  }
 },
 "nbformat": 4,
 "nbformat_minor": 0
}
