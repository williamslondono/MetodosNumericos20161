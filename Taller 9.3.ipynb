{
 "cells": [
  {
   "cell_type": "code",
   "execution_count": 11,
   "metadata": {
    "collapsed": false,
    "scrolled": true
   },
   "outputs": [
    {
     "name": "stdout",
     "output_type": "stream",
     "text": [
      "\n",
      "a)\n",
      " -La multiplicacion de las matrices [A]x[B] es:\n",
      "[[4.0, 15], [8.0, 29], [9.0, 29]]\n",
      "\n",
      "   -La multiplicacion de las matrices [A]x[C] es:\n",
      "[[-16, 4], [-24, 4], [2, -10]]\n",
      "\n",
      "   -La multiplicacion de las matrices [B]x[C] es:\n",
      "[[-7, 1], [-5.0, 1.0]]\n",
      "\n",
      "   -La multiplicacion de las matrices [C]x[B] es:\n",
      "[[1.0, 2], [-2.5, -7]]\n",
      "\n",
      "b)\n",
      "La multiplicacion [B]x[A]: \n",
      "No se pueden multiplicar las matrices porque el numero de columnas de la primera matriz NO es igual\n",
      "al numero de filas de la segunda matriz.\n",
      "\n",
      "   *La multiplicacion [C]x[A]: \n",
      "No se pueden multiplicar las matrices porque el numero de columnas de la primera matriz NO es igual\n",
      "al numero de filas de la segunda matriz.\n",
      "\n",
      "c) Con los resultados anteriores, se puede observar que el producto entre matrices no cumple con la\n",
      "propiedad conmutativa. Miremos que [B]x[C] NO es igual a [C]x[B]\n"
     ]
    }
   ],
   "source": [
    "#9.3 Se definen tres matrices como sigue: A=[[1,6],[3,10],[7,4]]; B=[[1,3],[0.5, 2]]; C=[[2,-2],[-3,1]]\n",
    "#a) Ejecute todas las multiplicaciones que sea posible calcular entre parejas de las matrices.\n",
    "A=[[1,6],[3,10],[7,4]]\n",
    "B=[[1,3],[0.5, 2]]\n",
    "C=[[2,-2],[-3,1]]\n",
    "def multiplicacion(a,b):\n",
    "    product=[]\n",
    "    for i in range(len(a)):\n",
    "        product.append([0]*(len(b[0])))\n",
    "    for i in range(len(a)):\n",
    "        for j in range(len(b[0])):\n",
    "            for k in range(len(a[0])):\n",
    "                product[i][j]+= a[i][k]*b[k][j]\n",
    "    return product\n",
    "\n",
    "def verificar(matriz1,matriz2):\n",
    "    if(len(matriz1[0])!=len(matriz2)):\n",
    "        print \"No se pueden multiplicar las matrices porque el numero de columnas de la primera matriz NO es igual\\nal numero de filas de la segunda matriz.\"\n",
    "    if(len(matriz1[0])==len(matriz2)):\n",
    "        resultado=multiplicacion(matriz1,matriz2)\n",
    "        return resultado\n",
    "    \n",
    "print \"\\na)\\n -La multiplicacion de las matrices [A]x[B] es:\" \n",
    "print verificar(A,B)\n",
    "print \"\\n   -La multiplicacion de las matrices [A]x[C] es:\" \n",
    "print verificar(A,C)\n",
    "print \"\\n   -La multiplicacion de las matrices [B]x[C] es:\" \n",
    "print verificar(B,C)\n",
    "print \"\\n   -La multiplicacion de las matrices [C]x[B] es:\" \n",
    "print verificar(C,B)\n",
    "\n",
    "print \"\\nb)\\nLa multiplicacion [B]x[A]: \"\n",
    "verificar(B,A)\n",
    "print \"\\n   *La multiplicacion [C]x[A]: \"\n",
    "verificar(C,A)\n"
   ]
  },
  {
   "cell_type": "code",
   "execution_count": null,
   "metadata": {
    "collapsed": true
   },
   "outputs": [],
   "source": []
  },
  {
   "cell_type": "code",
   "execution_count": null,
   "metadata": {
    "collapsed": true
   },
   "outputs": [],
   "source": []
  }
 ],
 "metadata": {
  "kernelspec": {
   "display_name": "Python 2",
   "language": "python",
   "name": "python2"
  },
  "language_info": {
   "codemirror_mode": {
    "name": "ipython",
    "version": 2
   },
   "file_extension": ".py",
   "mimetype": "text/x-python",
   "name": "python",
   "nbconvert_exporter": "python",
   "pygments_lexer": "ipython2",
   "version": "2.7.11"
  }
 },
 "nbformat": 4,
 "nbformat_minor": 0
}
