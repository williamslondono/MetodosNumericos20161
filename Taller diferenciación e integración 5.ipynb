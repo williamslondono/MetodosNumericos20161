{
 "cells": [
  {
   "cell_type": "code",
   "execution_count": 10,
   "metadata": {
    "collapsed": false
   },
   "outputs": [
    {
     "name": "stdout",
     "output_type": "stream",
     "text": [
      "Implementacion Simpson 3/8 un segmento:\n",
      "    Valor  Simpson= 1.519170. Lo cual da un error = 7.40\n",
      "\n",
      "Implementacion Simpson 3/8 multiples segmentos:\n",
      "    Valor  Simpson= 1.645077. Lo cual da un error = -0.28\n"
     ]
    }
   ],
   "source": [
    "#5) Implemente la regla de Simpson 3/8 para un segmento y múltiples segmentos de las Figuras 21.13b y 21.13d\n",
    "import math \n",
    "\n",
    "real=1.640533\n",
    "sum=0\n",
    "def function(x):\n",
    "    fx=0.2+(25*x)-(200*(math.pow(x,2)))+(675*(math.pow(x,3)))-(900*(math.pow(x,4)))+(400*(math.pow(x,5)))\n",
    "    return fx\n",
    "\n",
    "def vector():\n",
    "    j,k=0,0\n",
    "    global aux,aux2\n",
    "    aux=[]\n",
    "    aux2=[]\n",
    "    while j<1.0:\n",
    "        aux.append(function(j))\n",
    "        j+=0.8/3\n",
    "    while k<=0.8:\n",
    "        aux2.append(function(k))\n",
    "        k+=0.8/5\n",
    "        \n",
    "def Simp38(h,f0,f1,f2,f3):\n",
    "    simp38=3*h*(f0+3*(f1+f2)+f3)/8\n",
    "    return simp38\n",
    "\n",
    "def trap(h,f0,f1):\n",
    "    value=h*(f0+f1)/2\n",
    "    return value\n",
    "\n",
    "def simp13m(h,n,f):\n",
    "    sum=function(0)\n",
    "    for i in range (1,n-1,2):\n",
    "        sum=sum+4*f[i]+2*f[i+1]\n",
    "    sum=sum+4*f[n-1]+f[n]\n",
    "    Simp13m=h*sum/3\n",
    "    return Simp13m\n",
    "\n",
    "def SimpInt(a,b,n,f):\n",
    "    sum1=0\n",
    "    h=(b-a)/n\n",
    "    if n==1:\n",
    "        sum1=trap(h,f[n-1],f[n])\n",
    "    else:\n",
    "        m=n*1.0\n",
    "        odd=(n*1.0/2)-int(n*1.0/2)\n",
    "        if (odd>0 and n>1):\n",
    "            sum1=sum1+Simp38(h,f[n-3],f[n-2],f[n-1],f[n])\n",
    "            m=n-3\n",
    "        if(m>1):\n",
    "            sum1=sum1+simp13m(h,m,f)\n",
    "    simpint=sum1\n",
    "    return simpint\n",
    "\n",
    "vector()\n",
    "print \"Implementacion Simpson 3/8 un segmento:\"\n",
    "print \"    Valor  Simpson= %.6f. Lo cual da un error = %.2f\\\n",
    "\"%(Simp38(0.8/3,aux[0],aux[1],aux[2],aux[3]),(real-Simp38(0.8/3,aux[0],aux[1],aux[2],aux[3]))*100/real)\n",
    "\n",
    "print \"\\nImplementacion Simpson 3/8 multiples segmentos:\"\n",
    "print \"    Valor  Simpson= %.6f. Lo cual da un error = %.2f\\\n",
    "\"%(SimpInt(0.0,0.8,5,aux2),(real-SimpInt(0.0,0.8,5,aux2))*100/real)"
   ]
  },
  {
   "cell_type": "code",
   "execution_count": null,
   "metadata": {
    "collapsed": true
   },
   "outputs": [],
   "source": []
  }
 ],
 "metadata": {
  "kernelspec": {
   "display_name": "Python 2",
   "language": "python",
   "name": "python2"
  },
  "language_info": {
   "codemirror_mode": {
    "name": "ipython",
    "version": 2
   },
   "file_extension": ".py",
   "mimetype": "text/x-python",
   "name": "python",
   "nbconvert_exporter": "python",
   "pygments_lexer": "ipython2",
   "version": "2.7.11"
  }
 },
 "nbformat": 4,
 "nbformat_minor": 0
}
