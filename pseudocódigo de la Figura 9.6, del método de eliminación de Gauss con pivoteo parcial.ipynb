{
 "cells": [
  {
   "cell_type": "code",
   "execution_count": 2,
   "metadata": {
    "collapsed": false
   },
   "outputs": [
    {
     "name": "stdout",
     "output_type": "stream",
     "text": [
      "Para este método el num de incognitas debe ser igual al numero de acuaciones.\n",
      "Digite el numero de ecuaciones:  2\n",
      "\n",
      "Ingrese en orden las constantes de las ecuaciones...\n",
      "Ecuacion 1:\n",
      "3\n",
      "4\n",
      "5\n",
      "[[3.0 4.0 5.0]] \n",
      "\n",
      "Ecuacion 2:\n",
      "6\n",
      "7\n",
      "8\n",
      "[[6.0 7.0 8.0]] \n",
      "\n",
      "Matriz de coeficiente:\n",
      "[[3.0 4.0 5.0]\n",
      " [6.0 7.0 8.0]]\n",
      "matriz triangular resultante:\n",
      "[[6.0 7.0 8.0]\n",
      " [0.0 0.5 1.0]]\n",
      "\n",
      "X1= -1.0\n",
      "\n",
      "X2= 2.0\n"
     ]
    }
   ],
   "source": [
    "#Implementar el pseudocódigo de la Figura 9.6, del método de eliminación de Gauss con pivoteo parcial\n",
    "import math as mt\n",
    "import numpy as np\n",
    "tam=int(input(\"Digite el numero de ecuaciones:  \"))\n",
    "tam2=tam+1\n",
    "matriz = np.array([[None] * (tam2) for i in range(tam)])\n",
    "print \"\\nIngrese en orden las constantes de las ecuaciones...\"\n",
    "for e in range (tam):\n",
    "    print \"Ecuacion \"+repr(e+1)+\":\"\n",
    "    for f in range (tam2):\n",
    "        a=float(input())\n",
    "        matriz[e][f]=a\n",
    "    print matriz[[e][0]:[e+1][0]],\"\\n\"\n",
    "vaux=[]\n",
    "indicef=0\n",
    "print \"Matriz de coeficiente:\\n\",matriz\n",
    "for k in range (tam-1):\n",
    "    \n",
    "    indicef=k\n",
    "    for i in range (k+1,tam):\n",
    "        if((abs(matriz[i][k]))>(abs(matriz[indicef][k]))):\n",
    "            indicef=i\n",
    "    \n",
    "    if(k!=indicef):\n",
    "        vaux[:]=matriz[k,:] #asigna matriz pivote menor \n",
    "        matriz[k,:]=matriz[indicef,:]#asigna matriz pivote mayor\n",
    "        matriz[indicef,:]=vaux[:] #al que antes tenia el pivote mayor, la deja en la posicion que tenia el del pivote menor\n",
    "    for i in range (k+1,tam):\n",
    "        factor=matriz[i][k]/matriz[k][k]\n",
    "        for j in range (k,tam2):\n",
    "            matriz[i][j]=(matriz[i][j]-(factor*matriz[k][j]))\n",
    "    \"\"\"for i in range (j+1,tam):\n",
    "        matriz[j,:]=(matriz[i,:]+matriz[j,:])*(-matriz[i][j]/matriz[j][j])\"\"\"\n",
    "print \"matriz triangular resultante:\\n\", matriz\n",
    "\n",
    "ntam=tam-1\n",
    "xn=(matriz[ntam][tam]/matriz[ntam][ntam])\n",
    "x=[]\n",
    "suma=0.0\n",
    "for k in range (tam):\n",
    "    x.append(0)\n",
    "x[ntam]=xn\n",
    "i=ntam-1\n",
    "while(i>=0):\n",
    "    suma=matriz[i][tam]\n",
    "    j=i+1\n",
    "    while(j<=ntam):\n",
    "        suma=suma -matriz[i][j]*x[j]\n",
    "        j=j+1\n",
    "    x[i]=suma/matriz[i][i]\n",
    "    i=i-1\n",
    "for g in range(ntam+1):\n",
    "    print \"\\nX\"+repr(g+1)+\"=\",x[g]"
   ]
  },
  {
   "cell_type": "code",
   "execution_count": null,
   "metadata": {
    "collapsed": true
   },
   "outputs": [],
   "source": []
  }
 ],
 "metadata": {
  "kernelspec": {
   "display_name": "Python 2",
   "language": "python",
   "name": "python2"
  },
  "language_info": {
   "codemirror_mode": {
    "name": "ipython",
    "version": 2
   },
   "file_extension": ".py",
   "mimetype": "text/x-python",
   "name": "python",
   "nbconvert_exporter": "python",
   "pygments_lexer": "ipython2",
   "version": "2.7.11"
  }
 },
 "nbformat": 4,
 "nbformat_minor": 0
}
