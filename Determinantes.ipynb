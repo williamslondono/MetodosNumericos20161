{
 "cells": [
  {
   "cell_type": "code",
   "execution_count": 1,
   "metadata": {
    "collapsed": false
   },
   "outputs": [
    {
     "name": "stdout",
     "output_type": "stream",
     "text": [
      "Tamanio Matriz:2\n",
      "valor pos 0,0 1\n",
      "valor pos 0,1 1\n",
      "valor pos 1,0 1\n",
      "valor pos 1,1 1\n",
      "DETERMINANTE= 0.0\n"
     ]
    }
   ],
   "source": [
    "matriz = []\n",
    "tam = int(input(\"Tamanio Matriz:\"))\n",
    "\n",
    "def det(num1,num2,num3,num4):\n",
    "    #det=matr[]\n",
    "    num = num1*num4-num2*num3\n",
    "    return num\n",
    "def ingreso():\n",
    "    for x in range(0,tam):\n",
    "        #print \"Columa \"\n",
    "        matriz.append([])\n",
    "        for y in range(0,tam): \n",
    "            val = float(input(\"valor pos %s,%s \"  %(x,y)))\n",
    "            matriz[x].append(val) \n",
    "\n",
    "def muestra():\n",
    "    num1=0;num2=0;num3=0;num4=0\n",
    "       \n",
    "    if tam==2:\n",
    "        for x in range(0,tam):\n",
    "            matriz.append([])\n",
    "            for y in range(0,tam): \n",
    "                #Posiciones \n",
    "                #print matriz[x][y]\n",
    "                if x == 0:\n",
    "                    if y == 0:\n",
    "                        num1=matriz[x][y]\n",
    "                        #print num1\n",
    "                    if y == 1:   \n",
    "                        num2=matriz[x][y]\n",
    "                        #print num2\n",
    "                if x == 1:\n",
    "                    if y == 0:\n",
    "                        num3=matriz[x][y]\n",
    "                        #print num3\n",
    "                    if y == 1:   \n",
    "                        num4=matriz[x][y]\n",
    "                        #print num4\n",
    "        print \"DETERMINANTE= %s\" %(det(num1,num2,num3,num4))\n",
    "    if tam==3:\n",
    "        A1=matriz[0][0]*det(matriz[1][1],matriz[1][2],matriz[2][1],matriz[2][2])\n",
    "        A2=matriz[0][1]*det(matriz[1][0],matriz[1][2],matriz[2][0],matriz[2][2])\n",
    "        A3=matriz[0][2]*det(matriz[1][0],matriz[1][1],matriz[2][0],matriz[2][1])\n",
    "        D=A1-A2+A3\n",
    "        print A1\n",
    "        print A2\n",
    "        print A3 \n",
    "        print \"DETERMINANTE= %s\" %(D)\n",
    "            \n",
    "\n",
    "        \n",
    "\n",
    "ingreso()\n",
    "muestra()"
   ]
  },
  {
   "cell_type": "code",
   "execution_count": null,
   "metadata": {
    "collapsed": true
   },
   "outputs": [],
   "source": []
  }
 ],
 "metadata": {
  "kernelspec": {
   "display_name": "Python 2",
   "language": "python",
   "name": "python2"
  },
  "language_info": {
   "codemirror_mode": {
    "name": "ipython",
    "version": 2
   },
   "file_extension": ".py",
   "mimetype": "text/x-python",
   "name": "python",
   "nbconvert_exporter": "python",
   "pygments_lexer": "ipython2",
   "version": "2.7.11"
  }
 },
 "nbformat": 4,
 "nbformat_minor": 0
}
