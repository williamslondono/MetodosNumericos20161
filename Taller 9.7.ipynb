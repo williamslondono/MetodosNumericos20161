{
 "cells": [
  {
   "cell_type": "code",
   "execution_count": 32,
   "metadata": {
    "collapsed": false,
    "scrolled": true
   },
   "outputs": [
    {
     "name": "stdout",
     "output_type": "stream",
     "text": [
      "\n",
      "a) X1= 10\n",
      "   X2= 14.5\n"
     ]
    },
    {
     "data": {
      "image/png": "[encoded data removed]",
      "text/plain": [
       "<matplotlib.figure.Figure at 0x7e856a0>"
      ]
     },
     "metadata": {},
     "output_type": "display_data"
    },
    {
     "name": "stdout",
     "output_type": "stream",
     "text": [
      "\n",
      "b) El determinante de la matriz de coeficientes es: 0.02\n",
      "\n",
      "c)el determinante se aproxima a 0, el sistema podria tener otras soluciones.\n",
      "\n",
      "d) Por eliminacion de incognitas: \n",
      "    X1 es= 10\n",
      "    X2 es= 14.5\n"
     ]
    }
   ],
   "source": [
    "#9.7 Dadas las ecuaciones: 0.5X1–X2=–9.5; 1.02X1–2*X2=–18.8. \n",
    "#a) Resuelva en forma gráfica. \n",
    "#b) Calcule el determinante. \n",
    "#c) Con base en los incisos a) y b), ¿qué es de esperarse con respecto de la condición del sistema? \n",
    "#d) Resuelva por medio de la eliminación de incógnitas. e) Resuelva otra vez, pero modifique ligeramente el elemento a11 a 0.52. Interprete sus resultados.\n",
    "\n",
    "import math\n",
    "import matplotlib.pyplot as plt\n",
    "%matplotlib inline\n",
    "\n",
    "valores=[]\n",
    "funcion1=[]\n",
    "funcion2=[]\n",
    "a,b,c=0,0,-40\n",
    "i=-70\n",
    "for i in range (-70,100):\n",
    "    x2=(0.5*i)+9.5\n",
    "    x2b=0.51*i+9.4\n",
    "    valores.append(i)\n",
    "    funcion1.append(x2)\n",
    "    funcion2.append(x2b)\n",
    "while c<=1000:\n",
    "    fx1=0.02*a-19\n",
    "    fx2=(((1.0/1.02)-1.0)*b)-(9.4/1.02)\n",
    "    if(fx1==-18.8):\n",
    "        print \"\\na) X1= %.0f\"%a\n",
    "        punto1=a\n",
    "    if(fx2==-9.5):\n",
    "        print \"   X2= %.1f\"%b\n",
    "        punto2=b\n",
    "    a+=0.1\n",
    "    b+=0.1\n",
    "    c+=1\n",
    "plt.title(\"Sistema de ecuaciones\")\n",
    "plt.grid(True)\n",
    "plt.axis([-50,70,-80,80])\n",
    "plt.ylabel('x2')\n",
    "plt.xlabel('x1')\n",
    "plt.plot(valores, funcion1, 'g-', linewidth=1.0)\n",
    "plt.plot(valores, funcion2, 'r-', linewidth=1.0)\n",
    "plt.plot(punto1,punto2, 'bo', label=\"Punto corte:\\nx1=10\\nx2=14.5\")\n",
    "plt.legend(loc = 'upper right', numpoints = 1)\n",
    "plt.show()\n",
    "\n",
    "matrizCoef=[[0.5,-1],[1.02,-2]]\n",
    "det=matrizCoef[0][0]*matrizCoef[1][1]-matrizCoef[0][1]*matrizCoef[1][0]\n",
    "print \"\\nb) El determinante de la matriz de coeficientes es: %.2f\" %det\n",
    "print \"\\nc)el determinante se aproxima a 0, el sistema podria tener otras soluciones.\"\n",
    "\n",
    "aux=[]\n",
    "sol=[-9.5,-18.8]\n",
    "aux2=[]\n",
    "for i in range(len(matrizCoef)):\n",
    "    aux.append([])\n",
    "    if(i==0):\n",
    "        for j in range(len(matrizCoef[0])):\n",
    "            aux[i].append(matrizCoef[1][0]*matrizCoef[i][j])\n",
    "        aux2.append(matrizCoef[1][0]*sol[i])\n",
    "    else:\n",
    "        for j in range(len(matrizCoef[1])):\n",
    "            aux[i].append(matrizCoef[0][0]*matrizCoef[i][j])\n",
    "        aux2.append(matrizCoef[0][0]*sol[i])\n",
    "print \"\\nd) Por eliminacion de incognitas: \"\n",
    "var2=(aux2[0]-aux2[1])/(aux[0][1]-aux[1][1])\n",
    "var1=(sol[0]-matrizCoef[0][1]*var2)/matrizCoef[0][0]\n",
    "print \"    X1 es= %.0f\" %var1\n",
    "print \"    X2 es= %.1f\" %var2"
   ]
  },
  {
   "cell_type": "code",
   "execution_count": null,
   "metadata": {
    "collapsed": true
   },
   "outputs": [],
   "source": []
  },
  {
   "cell_type": "code",
   "execution_count": null,
   "metadata": {
    "collapsed": true
   },
   "outputs": [],
   "source": []
  }
 ],
 "metadata": {
  "kernelspec": {
   "display_name": "Python 2",
   "language": "python",
   "name": "python2"
  },
  "language_info": {
   "codemirror_mode": {
    "name": "ipython",
    "version": 2
   },
   "file_extension": ".py",
   "mimetype": "text/x-python",
   "name": "python",
   "nbconvert_exporter": "python",
   "pygments_lexer": "ipython2",
   "version": "2.7.11"
  }
 },
 "nbformat": 4,
 "nbformat_minor": 0
}
