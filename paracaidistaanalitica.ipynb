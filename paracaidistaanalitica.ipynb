{
 "cells": [
  {
   "cell_type": "code",
   "execution_count": 27,
   "metadata": {
    "collapsed": false
   },
   "outputs": [
    {
     "name": "stdout",
     "output_type": "stream",
     "text": [
      "En el tiempo: 0 la velocidad es:0.0\n",
      "En el tiempo: 1 la velocidad es:8.9531822079\n",
      "En el tiempo: 2 la velocidad es:16.4049808029\n",
      "En el tiempo: 3 la velocidad es:22.6071669095\n",
      "En el tiempo: 4 la velocidad es:27.7692914639\n",
      "En el tiempo: 5 la velocidad es:32.0657652324\n",
      "En el tiempo: 6 la velocidad es:35.6417515631\n",
      "En el tiempo: 7 la velocidad es:38.6180709651\n",
      "En el tiempo: 8 la velocidad es:41.0952832258\n",
      "En el tiempo: 9 la velocidad es:43.1570849869\n",
      "En el tiempo: 10 la velocidad es:44.8731375713\n",
      "En el tiempo: 11 la velocidad es:46.3014206042\n",
      "En el tiempo: 12 la velocidad es:47.4901909486\n",
      "En el tiempo: 13 la velocidad es:48.4796131425\n",
      "En el tiempo: 14 la velocidad es:49.3031164225\n",
      "En el tiempo: 15 la velocidad es:49.988524185\n",
      "En el tiempo: 16 la velocidad es:50.5589940452\n",
      "En el tiempo: 17 la velocidad es:51.0338002541\n",
      "En el tiempo: 18 la velocidad es:51.4289849112\n",
      "En el tiempo: 19 la velocidad es:51.7578999723\n",
      "En el tiempo: 20 la velocidad es:52.0316583671\n",
      "En el tiempo: 21 la velocidad es:52.2595094679\n",
      "En el tiempo: 22 la velocidad es:52.4491515944\n",
      "En el tiempo: 23 la velocidad es:52.606992114\n",
      "En el tiempo: 24 la velocidad es:52.7383639252\n",
      "En el tiempo: 25 la velocidad es:52.847705638\n",
      "En el tiempo: 26 la velocidad es:52.9387115399\n",
      "En el tiempo: 27 la velocidad es:53.0144564132\n",
      "En el tiempo: 28 la velocidad es:53.0774994216\n",
      "En el tiempo: 29 la velocidad es:53.1299705754\n",
      "En el tiempo: 30 la velocidad es:53.1736426979\n",
      "En el tiempo: 31 la velocidad es:53.2099913228\n",
      "En el tiempo: 32 la velocidad es:53.2402445473\n",
      "En el tiempo: 33 la velocidad es:53.2654245259\n",
      "En el tiempo: 34 la velocidad es:53.286382005\n",
      "En el tiempo: 35 la velocidad es:53.3038250671\n",
      "En el tiempo: 36 la velocidad es:53.3183430544\n",
      "En el tiempo: 37 la velocidad es:53.3304264807\n",
      "En el tiempo: 38 la velocidad es:53.3404836042\n",
      "En el tiempo: 39 la velocidad es:53.3488542211\n",
      "En el tiempo: 40 la velocidad es:53.3558211464\n",
      "En el tiempo: 41 la velocidad es:53.3616197689\n",
      "En el tiempo: 42 la velocidad es:53.3664460046\n",
      "En el tiempo: 43 la velocidad es:53.3704629156\n",
      "En el tiempo: 44 la velocidad es:53.3738062198\n",
      "En el tiempo: 45 la velocidad es:53.3765888762\n",
      "En el tiempo: 46 la velocidad es:53.3789049013\n",
      "En el tiempo: 47 la velocidad es:53.3808325459\n",
      "En el tiempo: 48 la velocidad es:53.3824369384\n",
      "En el tiempo: 49 la velocidad es:53.383772286\n",
      "En el tiempo: 50 la velocidad es:53.3848837055\n"
     ]
    }
   ],
   "source": [
    "import math\n",
    "g=9.8\n",
    "m=68.1\n",
    "c=12.5\n",
    "cont=0\n",
    "for t in range(51):\n",
    "    v=((g*m)/c)*(1-(math.exp((-c/m)*t)))\n",
    "    print \"En el tiempo: \"+str(t) + \" la velocidad es:\" + str(v)\n"
   ]
  },
  {
   "cell_type": "code",
   "execution_count": null,
   "metadata": {
    "collapsed": true
   },
   "outputs": [],
   "source": []
  },
  {
   "cell_type": "code",
   "execution_count": null,
   "metadata": {
    "collapsed": true
   },
   "outputs": [],
   "source": []
  }
 ],
 "metadata": {
  "kernelspec": {
   "display_name": "Python 2",
   "language": "python",
   "name": "python2"
  },
  "language_info": {
   "codemirror_mode": {
    "name": "ipython",
    "version": 2
   },
   "file_extension": ".py",
   "mimetype": "text/x-python",
   "name": "python",
   "nbconvert_exporter": "python",
   "pygments_lexer": "ipython2",
   "version": "2.7.10"
  }
 },
 "nbformat": 4,
 "nbformat_minor": 0
}
