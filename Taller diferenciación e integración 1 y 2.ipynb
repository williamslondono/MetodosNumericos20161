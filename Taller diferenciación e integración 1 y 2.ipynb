{
 "cells": [
  {
   "cell_type": "code",
   "execution_count": 3,
   "metadata": {
    "collapsed": false
   },
   "outputs": [
    {
     "name": "stdout",
     "output_type": "stream",
     "text": [
      "Implementacion un y ejemplo 21.1:\n",
      "Regla de Trapecio para un solo segmento es: 0.1728. con un error de 1.467733\n",
      "\n",
      "\n",
      "Implementacion multiples segmentos y ejemplo 21.2: \n",
      "\n",
      "Por regla de segmentos multiples: 1.0688.  error de esta regla es: 0.571733\n"
     ]
    }
   ],
   "source": [
    "#1) Implemente la regla del trapecio de un segmento y múltiples segmentos (sub 21.1.2) de la Figura 21.9 \n",
    "#2) Desarrolle los Ejemplos 21.1 y 21.2\n",
    "import math\n",
    "x0=0\n",
    "xa=0.8\n",
    "real=1.640533\n",
    "vec=[0.0,0.4,0.8]\n",
    "\n",
    "def function(x):\n",
    "    fx=0.2+(25*x)-(200*(math.pow(x,2)))+(675*(math.pow(x,3)))-(900*(math.pow(x,4)))+(400*(math.pow(x,5)))\n",
    "    return fx\n",
    "\n",
    "def trap(h,f0,f1):\n",
    "    value=h*(f0+f1)/2\n",
    "    return value\n",
    "\n",
    "def vector():\n",
    "    global aux\n",
    "    aux=[]\n",
    "    for j in range(3):\n",
    "        aux.append(function(vec[j]))\n",
    "\n",
    "def trapm(h,n,f):\n",
    "    sum=f[0]\n",
    "    for i in range (1,n):\n",
    "        sum=sum+(2*f[i])\n",
    "    sum=sum+f[n]\n",
    "    valor=h*sum/2\n",
    "    return valor\n",
    "\n",
    "vector() \n",
    "print \"Implementacion un y ejemplo 21.1:\"\n",
    "print \"Regla de Trapecio para un solo segmento es: %.4f. con un error de \\\n",
    "%f\"%(trap(0.8,function(x0),function(xa)),real-trap(0.8,function(x0),function(xa)))\n",
    "\n",
    "print \"\\n\\nImplementacion multiples segmentos y ejemplo 21.2: \"\n",
    "print \"\\nPor regla de segmentos multiples: %.4f.  error de esta regla es: %f\" %(trapm(0.4, 2, aux),real-trapm(0.4, 2, aux))"
   ]
  },
  {
   "cell_type": "code",
   "execution_count": null,
   "metadata": {
    "collapsed": true
   },
   "outputs": [],
   "source": []
  }
 ],
 "metadata": {
  "kernelspec": {
   "display_name": "Python 2",
   "language": "python",
   "name": "python2"
  },
  "language_info": {
   "codemirror_mode": {
    "name": "ipython",
    "version": 2
   },
   "file_extension": ".py",
   "mimetype": "text/x-python",
   "name": "python",
   "nbconvert_exporter": "python",
   "pygments_lexer": "ipython2",
   "version": "2.7.11"
  }
 },
 "nbformat": 4,
 "nbformat_minor": 0
}
