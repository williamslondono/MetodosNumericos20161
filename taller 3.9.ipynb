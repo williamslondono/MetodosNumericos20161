{
 "cells": [
  {
   "cell_type": "code",
   "execution_count": 41,
   "metadata": {
    "collapsed": false
   },
   "outputs": [
    {
     "name": "stdout",
     "output_type": "stream",
     "text": [
      "Solución coseno  series de McClaurin:\n",
      "\n",
      "1.0\n",
      "0.555867801951\n",
      "0.588743370175\n",
      "0.587769963616\n",
      "0.587785403659\n",
      "0.587785251272\n",
      "\n",
      "Tabla cifras significativas:\n",
      "\n",
      "╒═══════════╕\n",
      "│   Coseno  │\n",
      "╞═══════════╡\n",
      "│  1        │\n",
      "├───────────┤\n",
      "│  0.555868 │\n",
      "├───────────┤\n",
      "│  0.588743 │\n",
      "├───────────┤\n",
      "│  0.58777  │\n",
      "├───────────┤\n",
      "│  0.587785 │\n",
      "├───────────┤\n",
      "│  0.587785 │\n",
      "╘═══════════╛\n"
     ]
    }
   ],
   "source": [
    "import math\n",
    "from tabulate import tabulate\n",
    "\n",
    "x=math.radians((0.3)*180)\n",
    "coseno=math.cos(x)\n",
    "valor=round(coseno,8)\n",
    "v2=0.0\n",
    "ant=[]\n",
    "vA=[]\n",
    "tabla=[]\n",
    "i=0\n",
    "print \"Solución coseno  series de McClaurin:\\n\"\n",
    "while 1:\n",
    "    if(i%2==0):\n",
    "        v = (math.pow(x, (i*2)))/math.factorial(i*2)\n",
    "        valueAnt = v2\n",
    "        v2+=v\n",
    "        ant.append(valueAnt)\n",
    "        vA.append(v2)\n",
    "    else:\n",
    "        v = (math.pow(x, (i*2)))/math.factorial(i*2)\n",
    "        valueAnt = v2\n",
    "        v2-=v\n",
    "        ant.append(valueAnt)\n",
    "        vA.append(v2)\n",
    "    print v2\n",
    "    tabla.append([vA[i]])\n",
    "    i+=1\n",
    "    if(round(v2, 8)==valor):\n",
    "        break\n",
    "print\"\\nTabla cifras significativas:\\n\"\n",
    "print tabulate(tabla, headers=[\"Coseno \"], tablefmt=\"fancy_grid\")\n",
    "\n",
    "\n"
   ]
  },
  {
   "cell_type": "code",
   "execution_count": null,
   "metadata": {
    "collapsed": true
   },
   "outputs": [],
   "source": []
  },
  {
   "cell_type": "code",
   "execution_count": null,
   "metadata": {
    "collapsed": true
   },
   "outputs": [],
   "source": []
  }
 ],
 "metadata": {
  "kernelspec": {
   "display_name": "Python 2",
   "language": "python",
   "name": "python2"
  },
  "language_info": {
   "codemirror_mode": {
    "name": "ipython",
    "version": 2
   },
   "file_extension": ".py",
   "mimetype": "text/x-python",
   "name": "python",
   "nbconvert_exporter": "python",
   "pygments_lexer": "ipython2",
   "version": "2.7.11"
  }
 },
 "nbformat": 4,
 "nbformat_minor": 0
}
